{
 "cells": [
  {
   "cell_type": "code",
   "execution_count": null,
   "metadata": {},
   "outputs": [],
   "source": [
    "%matplotlib inline\n",
    "\n",
    "import os\n",
    "\n",
    "import geopandas as gpd\n",
    "import matplotlib.pyplot as plt\n",
    "import numpy as np\n",
    "import pandas as pd\n",
    "import seaborn as sbn\n",
    "\n",
    "from smif.data_layer import Results\n",
    "from tqdm import tqdm_notebook as tqdm\n",
    "\n",
    "results = Results({'interface': 'local_parquet', 'dir': '../'})\n",
    "\n",
    "sbn.set_context('talk', font_scale=0.8, rc={\"lines.linewidth\": 2.5})\n",
    "sbn.set_palette('Paired')"
   ]
  },
  {
   "cell_type": "code",
   "execution_count": null,
   "metadata": {},
   "outputs": [],
   "source": [
    "[mr for mr in results.list_model_runs() if 'arc_ed' in mr]"
   ]
  },
  {
   "cell_type": "code",
   "execution_count": null,
   "metadata": {},
   "outputs": [],
   "source": [
    "results.available_results('arc_ed__baseline')"
   ]
  },
  {
   "cell_type": "code",
   "execution_count": null,
   "metadata": {},
   "outputs": [],
   "source": [
    "results.list_sector_models('arc_ed__baseline')"
   ]
  },
  {
   "cell_type": "code",
   "execution_count": null,
   "metadata": {},
   "outputs": [],
   "source": [
    "elec_outputs = [x for x in results.list_outputs('energy_demand_unconstrained') if 'electricity' in x]\n",
    "elec_outputs"
   ]
  },
  {
   "cell_type": "code",
   "execution_count": null,
   "metadata": {},
   "outputs": [],
   "source": [
    "res_outputs = [x for x in results.list_outputs('energy_demand_unconstrained') if 'residential' in x]\n",
    "res_outputs"
   ]
  },
  {
   "cell_type": "code",
   "execution_count": null,
   "metadata": {},
   "outputs": [],
   "source": [
    "arc_lads = gpd.read_file('../data/dimensions/lad_uk_2016-12/arc_lads.shp')\n",
    "arc_lads"
   ]
  },
  {
   "cell_type": "code",
   "execution_count": null,
   "metadata": {},
   "outputs": [],
   "source": [
    "model_run_names = [\n",
    "    ('arc_ed__baseline',           'baseline',   'base',    'baseline'),\n",
    "    ('arc_ed__baseline__old',      'baseline',   'old',     'baseline'),\n",
    "    ('arc_ed__baseline__compact',  'baseline',   'compact', 'baseline'),\n",
    "    ('arc_ed__baseline__expand',   'baseline',   'expand',  'baseline'),\n",
    "    \n",
    "    ('arc_ed__expansion',          'expansion',  'base',    'baseline'),\n",
    "    ('arc_ed__expansion__old',     'expansion',  'old',     'baseline'),\n",
    "    ('arc_ed__expansion__compact', 'expansion',  'compact', 'baseline'),\n",
    "    ('arc_ed__expansion__expand',  'expansion',  'expand',  'baseline'),\n",
    "    \n",
    "    ('arc_ed__new-cities',         'new-cities', 'base',    'baseline'),\n",
    "    ('arc_ed__new-cities__old',    'new-cities', 'old',     'baseline'),\n",
    "    ('arc_ed__new-cities__compact','new-cities', 'compact', 'baseline'),\n",
    "    ('arc_ed__new-cities__expand', 'new-cities', 'expand',  'baseline'),\n",
    "    \n",
    "    ('arc_ed__unplanned',          'unplanned',  'base',    'baseline'),\n",
    "    ('arc_ed__unplanned__old',     'unplanned',  'old',     'baseline'),\n",
    "    ('arc_ed__unplanned__compact', 'unplanned',  'compact', 'baseline'),\n",
    "    ('arc_ed__unplanned__expand',  'unplanned',  'expand',  'baseline'),\n",
    "]\n",
    "model = 'energy_demand_unconstrained'\n",
    "timesteps=[2015, 2020, 2030, 2050]\n",
    "\n",
    "to_read = []\n",
    "for output in res_outputs:\n",
    "    for run, dwellings_scenario, floor_area_scenario, narrative in model_run_names:\n",
    "        for t in timesteps:\n",
    "            to_read.append((output, run, dwellings_scenario, floor_area_scenario, narrative, t))"
   ]
  },
  {
   "cell_type": "code",
   "execution_count": null,
   "metadata": {},
   "outputs": [],
   "source": [
    "dfs = []\n",
    "for output, run, dwellings_scenario, floor_area_scenario, narrative, t in tqdm(to_read):\n",
    "    p = os.path.join('..', 'results', run, model, 'decision_0', 'output_{}_timestep_{}.parquet'.format(output, t))\n",
    "    df = pd.read_parquet(p).reset_index()\n",
    "    df = df[df.lad_uk_2016.isin(arc_lads.name)]\n",
    "    df['dwellings'] = dwellings_scenario\n",
    "    df['floor_area'] = floor_area_scenario\n",
    "    df['timestep'] = t\n",
    "    # df['narrative'] = narrative\n",
    "    df = df.drop(['hourly'], axis=1) \\\n",
    "        .groupby(['lad_uk_2016', 'dwellings', 'floor_area', 'timestep']) \\\n",
    "        .sum() \\\n",
    "        .rename(columns={output: 'value'}) \\\n",
    "        .reset_index()\n",
    "    df['variable'] = output\n",
    "    dfs.append(df)\n",
    "    \n",
    "residential = pd.concat(dfs, axis=0)\n",
    "residential.head()"
   ]
  },
  {
   "cell_type": "code",
   "execution_count": null,
   "metadata": {},
   "outputs": [],
   "source": [
    "res_total = residential \\\n",
    "    .groupby(['dwellings', 'floor_area', 'timestep', 'variable']) \\\n",
    "    .sum() \\\n",
    "    .reset_index() \\\n",
    "    .rename(columns={\n",
    "        'dwellings': 'Scenario',\n",
    "        'timestep': 'Year',\n",
    "        'variable': 'End use',\n",
    "        'floor_area': 'New-build floor area'\n",
    "    })"
   ]
  },
  {
   "cell_type": "code",
   "execution_count": null,
   "metadata": {},
   "outputs": [],
   "source": [
    "sbn.relplot(\n",
    "    data=res_total.rename(columns={'value':'Energy Demand (GWh)'}), \n",
    "    x='Year', y='Energy Demand (GWh)', \n",
    "    col='Scenario', row='End use', \n",
    "    hue='New-build floor area', facet_kws={'margin_titles':True}, kind='line')"
   ]
  },
  {
   "cell_type": "code",
   "execution_count": null,
   "metadata": {},
   "outputs": [],
   "source": [
    "check_2050 = res_total[\n",
    "    res_total['End use'].isin(['residential_electricity', 'residential_heat']) \n",
    "    & (res_total['Year'] == 2050)\n",
    "    & (res_total['New-build floor area'] != 'old')\n",
    "    ] \\\n",
    "    .drop(columns=['Year'])\n",
    "base_2050 = check_2050[check_2050['New-build floor area'] == 'base'] \\\n",
    "    .drop(columns=['New-build floor area']) \\\n",
    "    .rename(columns={'value':'base_value'})\n",
    "check_2050 = check_2050.merge(base_2050, on=['Scenario','End use'])\n",
    "check_2050['perc_change'] = (check_2050.value - check_2050.base_value) / check_2050.base_value\n",
    "check_2050.sort_values(by=['End use', 'New-build floor area', 'Scenario'])"
   ]
  },
  {
   "cell_type": "code",
   "execution_count": null,
   "metadata": {},
   "outputs": [],
   "source": [
    "sbn.relplot(\n",
    "    data=res_total[res_total['End use'] == 'residential_electricity'].rename(columns={'value':'Electricity Demand (GWh)'}), \n",
    "    x='Year', y='Electricity Demand (GWh)', \n",
    "    col='Scenario', \n",
    "    hue='New-build floor area', facet_kws={'margin_titles':True}, kind='line')"
   ]
  },
  {
   "cell_type": "code",
   "execution_count": null,
   "metadata": {},
   "outputs": [],
   "source": [
    "fig = sbn.relplot(\n",
    "    data=res_total[(res_total['End use'] == 'residential_electricity') & (res_total['New-build floor area'] != 'old')], \n",
    "    x='Year', y='value', \n",
    "    col='Scenario', \n",
    "    hue='New-build floor area', facet_kws={'margin_titles':True}, kind='line')\n",
    "fig.set_axis_labels('Year', 'Residential electricity demand (GWh)')\n",
    "fig.savefig('ed_res_elec_demand.png')"
   ]
  },
  {
   "cell_type": "code",
   "execution_count": null,
   "metadata": {},
   "outputs": [],
   "source": [
    "sbn.relplot(\n",
    "    data=res_total[res_total['End use'] == 'residential_heat'].rename(columns={'value':'Electricity Demand (GWh)'}), \n",
    "    x='Year', y='Electricity Demand (GWh)', \n",
    "    col='Scenario', \n",
    "    hue='New-build floor area', facet_kws={'margin_titles':True}, kind='line')"
   ]
  },
  {
   "cell_type": "code",
   "execution_count": null,
   "metadata": {},
   "outputs": [],
   "source": [
    "fig = sbn.relplot(\n",
    "    data=res_total[(res_total['End use'] == 'residential_heat') & (res_total['New-build floor area'] != 'old')], \n",
    "    x='Year', y='value', \n",
    "    col='Scenario', \n",
    "    hue='New-build floor area', facet_kws={'margin_titles':True}, kind='line')\n",
    "fig.set_axis_labels('Year', 'Residential heat demand (GWh)')\n",
    "fig.savefig('ed_res_heat_demand.png')"
   ]
  },
  {
   "cell_type": "code",
   "execution_count": null,
   "metadata": {},
   "outputs": [],
   "source": [
    "res_total[(res_total.Year==2015) & (res_total['End use']=='residential_heat')]"
   ]
  },
  {
   "cell_type": "markdown",
   "metadata": {},
   "source": [
    "## Electricity/sector"
   ]
  },
  {
   "cell_type": "code",
   "execution_count": null,
   "metadata": {},
   "outputs": [],
   "source": [
    "model_run_names = [\n",
    "    ('arc_ed__baseline',           'baseline',   'base',    'baseline'),\n",
    "    ('arc_ed__baseline__old',      'baseline',   'old',     'baseline'),\n",
    "    \n",
    "    ('arc_ed__expansion',          'expansion',  'base',    'baseline'),\n",
    "    ('arc_ed__expansion__old',     'expansion',  'old',     'baseline'),\n",
    "    \n",
    "    ('arc_ed__new-cities',         'new-cities', 'base',    'baseline'),\n",
    "    ('arc_ed__new-cities__old',    'new-cities', 'old',     'baseline'),\n",
    "    \n",
    "    ('arc_ed__unplanned',          'unplanned',  'base',    'baseline'),\n",
    "    ('arc_ed__unplanned__old',     'unplanned',  'old',     'baseline'),\n",
    "]\n",
    "model = 'energy_demand_unconstrained'\n",
    "timesteps=[2015, 2020, 2030, 2050]\n",
    "\n",
    "to_read = []\n",
    "for output in elec_outputs:\n",
    "    for run, dwellings_scenario, floor_area_scenario, narrative in model_run_names:\n",
    "        for t in timesteps:\n",
    "            to_read.append((output, run, dwellings_scenario, floor_area_scenario, narrative, t))"
   ]
  },
  {
   "cell_type": "code",
   "execution_count": null,
   "metadata": {},
   "outputs": [],
   "source": [
    "dfs = []\n",
    "for output, run, dwellings_scenario, floor_area_scenario, narrative, t in tqdm(to_read):\n",
    "    p = os.path.join('..', 'results', run, model, 'decision_0', 'output_{}_timestep_{}.parquet'.format(output, t))\n",
    "    df = pd.read_parquet(p).reset_index()\n",
    "#     df = df[df.lad_uk_2016.isin(arc_lads.name)]\n",
    "    df['dwellings'] = dwellings_scenario\n",
    "    df['floor_area'] = floor_area_scenario\n",
    "    df['timestep'] = t\n",
    "    df = df.drop(['hourly'], axis=1) \\\n",
    "        .groupby(['lad_uk_2016', 'dwellings', 'floor_area', 'timestep']) \\\n",
    "        .sum() \\\n",
    "        .rename(columns={output: 'value'}) \\\n",
    "        .reset_index()\n",
    "    df['variable'] = output\n",
    "    dfs.append(df)\n",
    "    \n",
    "elec_base_old = pd.concat(dfs, axis=0)\n",
    "elec_base_old.head()"
   ]
  },
  {
   "cell_type": "code",
   "execution_count": null,
   "metadata": {},
   "outputs": [],
   "source": [
    "len(elec_base_old.lad_uk_2016.unique())"
   ]
  },
  {
   "cell_type": "code",
   "execution_count": null,
   "metadata": {},
   "outputs": [],
   "source": [
    "sbn.relplot(\n",
    "    data=elec_base_old, \n",
    "    x='timestep', \n",
    "    y='value', \n",
    "    col='dwellings', \n",
    "    row='floor_area',\n",
    "    hue='variable',\n",
    "    kind='line')"
   ]
  },
  {
   "cell_type": "code",
   "execution_count": null,
   "metadata": {},
   "outputs": [],
   "source": [
    "sbn.relplot(\n",
    "    data=elec_base_old.groupby(['dwellings', 'floor_area', 'timestep', 'variable']).sum().reset_index(), \n",
    "    x='timestep', \n",
    "    y='value', \n",
    "    col='dwellings', \n",
    "    row='floor_area',\n",
    "    hue='variable',\n",
    "    kind='line')"
   ]
  },
  {
   "cell_type": "markdown",
   "metadata": {},
   "source": [
    "# Electricity/multi-vector"
   ]
  },
  {
   "cell_type": "code",
   "execution_count": null,
   "metadata": {},
   "outputs": [],
   "source": [
    "model_run_names = [\n",
    "    ('arc_ed__baseline',       'baseline',   'base'),\n",
    "    ('arc_ed__baseline__ew',   'baseline',   'ew'  ),\n",
    "    ('arc_ed__baseline__mv',   'baseline',   'mv'  ),\n",
    "    \n",
    "    ('arc_ed__expansion',      'expansion',  'base'),\n",
    "    ('arc_ed__expansion__ew',  'expansion',  'ew'  ),\n",
    "    ('arc_ed__expansion__mv',  'expansion',  'mv'  ),\n",
    "    \n",
    "    ('arc_ed__new-cities',     'new-cities', 'base'),\n",
    "    ('arc_ed__new-cities__ew', 'new-cities', 'ew'  ),\n",
    "    ('arc_ed__new-cities__mv', 'new-cities', 'mv'  ),\n",
    "    \n",
    "    ('arc_ed__unplanned',      'unplanned',  'base'),\n",
    "    ('arc_ed__unplanned__ew',  'unplanned',  'ew'  ),\n",
    "    ('arc_ed__unplanned__mv',  'unplanned',  'mv'  ),\n",
    "]\n",
    "model = 'energy_demand_unconstrained'\n",
    "timesteps=[2015, 2020, 2030, 2050]\n",
    "\n",
    "to_read = []\n",
    "for output in results.list_outputs('energy_demand_unconstrained') :\n",
    "    for run, dwellings_scenario, narrative in model_run_names:\n",
    "        for t in timesteps:\n",
    "            to_read.append((output, run, dwellings_scenario, narrative, t))"
   ]
  },
  {
   "cell_type": "code",
   "execution_count": null,
   "metadata": {},
   "outputs": [],
   "source": [
    "results.list_outputs('energy_demand_unconstrained') "
   ]
  },
  {
   "cell_type": "code",
   "execution_count": null,
   "metadata": {},
   "outputs": [],
   "source": [
    "dfs = []\n",
    "for output, run, dwellings_scenario, narrative, t in tqdm(to_read):\n",
    "    p = os.path.join('..', 'results', run, model, 'decision_0', 'output_{}_timestep_{}.parquet'.format(output, t))\n",
    "    df = pd.read_parquet(p).reset_index()\n",
    "    df = df[df.lad_uk_2016.isin(arc_lads.name)]\n",
    "    df['dwellings'] = dwellings_scenario\n",
    "    df['narrative'] = narrative\n",
    "    df['timestep'] = t\n",
    "    df = df.drop(['hourly'], axis=1) \\\n",
    "        .groupby(['lad_uk_2016', 'dwellings', 'narrative', 'timestep']) \\\n",
    "        .sum() \\\n",
    "        .rename(columns={output: 'value'}) \\\n",
    "        .reset_index()\n",
    "    df['variable'] = output\n",
    "    dfs.append(df)\n",
    "    \n",
    "narrative_data = pd.concat(dfs, axis=0)\n",
    "narrative_data.head()"
   ]
  },
  {
   "cell_type": "code",
   "execution_count": null,
   "metadata": {},
   "outputs": [],
   "source": [
    "electricity = narrative_data[narrative_data.variable.str.contains('electricity')]"
   ]
  },
  {
   "cell_type": "code",
   "execution_count": null,
   "metadata": {},
   "outputs": [],
   "source": [
    "df = narrative_data.drop('hourly', axis=1).groupby(['dwellings', 'narrative', 'timestep', 'variable']).sum().reset_index()\n",
    "sbn.relplot(\n",
    "    data=df, \n",
    "    x='timestep', y='value', \n",
    "    col='dwellings', row='variable', \n",
    "    hue='narrative', facet_kws={'margin_titles':True}, kind='line')"
   ]
  },
  {
   "cell_type": "code",
   "execution_count": null,
   "metadata": {},
   "outputs": [],
   "source": [
    "by_sector = narrative_data.drop('hourly', axis=1).groupby(['lad_uk_2016', 'dwellings', 'narrative', 'timestep', 'variable']).sum().reset_index()\n",
    "by_sector = by_sector[by_sector.timestep == 2050]\n",
    "sbn.relplot(\n",
    "    data=by_sector, \n",
    "    x='dwellings', \n",
    "    y='value', \n",
    "    hue='lad_uk_2016',\n",
    "    col='variable',\n",
    "    col_wrap=3\n",
    ")"
   ]
  },
  {
   "cell_type": "code",
   "execution_count": null,
   "metadata": {},
   "outputs": [],
   "source": [
    "total_elec_demand = electricity.drop('hourly', axis=1).groupby(['dwellings', 'narrative', 'timestep']).sum().reset_index()"
   ]
  },
  {
   "cell_type": "code",
   "execution_count": null,
   "metadata": {},
   "outputs": [],
   "source": [
    "sbn.relplot(\n",
    "    data=total_elec_demand, \n",
    "    x='timestep', \n",
    "    y='value', \n",
    "    col='dwellings', \n",
    "    hue='narrative',\n",
    "    kind='line')"
   ]
  },
  {
   "cell_type": "code",
   "execution_count": null,
   "metadata": {},
   "outputs": [],
   "source": [
    "sbn.relplot(\n",
    "    data=electricity.drop('hourly', axis=1).groupby(['dwellings', 'narrative', 'timestep', 'variable']).sum().reset_index(), \n",
    "    x='timestep', \n",
    "    y='value', \n",
    "    col='dwellings', \n",
    "    hue='variable',\n",
    "    kind='line')"
   ]
  },
  {
   "cell_type": "markdown",
   "metadata": {},
   "source": [
    "# Arc LADs: Peak demand"
   ]
  },
  {
   "cell_type": "code",
   "execution_count": null,
   "metadata": {},
   "outputs": [],
   "source": [
    "model_run_names = [\n",
    "    ('arc_ed__baseline',   'baseline'  ),\n",
    "    ('arc_ed__expansion',  'expansion' ),\n",
    "    ('arc_ed__new-cities', 'new-cities'),\n",
    "    ('arc_ed__unplanned',  'unplanned' ),\n",
    "]\n",
    "model = 'energy_demand_unconstrained'\n",
    "timesteps=[2015, 2020, 2030, 2050]\n",
    "\n",
    "to_read = []\n",
    "for output in elec_outputs:\n",
    "    for run, dwellings_scenario in model_run_names:\n",
    "        for t in timesteps:\n",
    "            to_read.append((output, run, dwellings_scenario, t))"
   ]
  },
  {
   "cell_type": "code",
   "execution_count": null,
   "metadata": {},
   "outputs": [],
   "source": [
    "dfs = []\n",
    "for output, run, dwellings_scenario, t in tqdm(to_read):\n",
    "    p = os.path.join('..', 'results', run, model, 'decision_0', 'output_{}_timestep_{}.parquet'.format(output, t))\n",
    "    df = pd.read_parquet(p).reset_index()\n",
    "    df['in_arc'] = df.lad_uk_2016.isin(arc_lads.name)\n",
    "    df['dwellings'] = dwellings_scenario\n",
    "    df['timestep'] = t\n",
    "    df['variable'] = output\n",
    "    df = df.rename(columns={output: 'value'})\n",
    "    dfs.append(df)\n",
    "    \n",
    "elec_data = pd.concat(dfs, axis=0)\n",
    "elec_data.head()"
   ]
  },
  {
   "cell_type": "code",
   "execution_count": null,
   "metadata": {},
   "outputs": [],
   "source": [
    "del dfs"
   ]
  },
  {
   "cell_type": "code",
   "execution_count": null,
   "metadata": {},
   "outputs": [],
   "source": [
    "pdf = elec_data.groupby(['hourly', 'dwellings', 'timestep']).sum()"
   ]
  },
  {
   "cell_type": "code",
   "execution_count": null,
   "metadata": {},
   "outputs": [],
   "source": [
    "pdf.reset_index().groupby(['dwellings','timestep']).sum()[['value']]"
   ]
  },
  {
   "cell_type": "code",
   "execution_count": null,
   "metadata": {},
   "outputs": [],
   "source": [
    "df = pdf.reset_index().groupby(['dwellings','timestep']).max()[['value']]\n",
    "df.to_csv('peak_national.csv')\n",
    "df"
   ]
  },
  {
   "cell_type": "code",
   "execution_count": null,
   "metadata": {},
   "outputs": [],
   "source": [
    "arc_pdf = elec_data[elec_data.in_arc].groupby(['hourly', 'dwellings', 'timestep']).sum()"
   ]
  },
  {
   "cell_type": "code",
   "execution_count": null,
   "metadata": {},
   "outputs": [],
   "source": [
    "arc_pdf.reset_index().groupby(['dwellings','timestep']).sum()[['value']]"
   ]
  },
  {
   "cell_type": "code",
   "execution_count": null,
   "metadata": {},
   "outputs": [],
   "source": [
    "df = arc_pdf.reset_index().groupby(['dwellings','timestep']).max()[['value']]\n",
    "df.to_csv('peak_arc_only.csv')\n",
    "df"
   ]
  },
  {
   "cell_type": "code",
   "execution_count": null,
   "metadata": {},
   "outputs": [],
   "source": [
    "# plus 4 days skips us forwards to a Monday (weekend/holiday effect)\n",
    "filtered = elec_data[\n",
    "    elec_data['hourly'].isin(range(24*4, 24*4+24*7)) \n",
    "    & (elec_data.timestep == 2020)\n",
    "    & (elec_data.dwellings == 'baseline')\n",
    "    & elec_data.in_arc\n",
    "].copy()\n",
    "filtered.variable = filtered.variable.apply(lambda d: d.replace(\"_electricity\", \"\").title())\n",
    "# filtered.dwellings = filtered.dwellings.apply(lambda d: d.title())\n",
    "filtered.rename(columns={\n",
    "    'timestep': 'Year', \n",
    "    'variable': 'Sector',\n",
    "    'dwellings': 'Scenario',\n",
    "    'hourly': 'Hour of year',\n",
    "    'value': 'Electricity demand in Arc LADs (GW)'\n",
    "}, inplace=True)\n",
    "fig = sbn.relplot(\n",
    "    data=filtered, \n",
    "    x='Hour of year', \n",
    "    y='Electricity demand in Arc LADs (GW)', \n",
    "    col='Sector', \n",
    "#     row='Scenario', \n",
    "    hue='Sector',\n",
    "    facet_kws={'margin_titles':True},\n",
    "    kind='line')\n",
    "fig.savefig('ed_electricity_week.png')"
   ]
  },
  {
   "cell_type": "code",
   "execution_count": null,
   "metadata": {},
   "outputs": [],
   "source": [
    "def highlight(data, id_col='desc'):\n",
    "    def group_hlads(index):\n",
    "        named_lads = {\n",
    "            'Aylesbury Vale', \n",
    "            'Bedford', \n",
    "            'Cambridge', \n",
    "            'Central Bedfordshire', \n",
    "            'Huntingdonshire', \n",
    "            'Milton Keynes', \n",
    "            'Oxford', \n",
    "            'South Cambridgeshire'\n",
    "        }\n",
    "        if index in named_lads:\n",
    "            return index\n",
    "        else:\n",
    "            return 'Other'\n",
    "    \n",
    "    data['summary_lads'] = data[id_col].apply(group_hlads) \n",
    "    \n",
    "    return data"
   ]
  },
  {
   "cell_type": "code",
   "execution_count": null,
   "metadata": {},
   "outputs": [],
   "source": [
    "elec_data.columns"
   ]
  },
  {
   "cell_type": "code",
   "execution_count": null,
   "metadata": {},
   "outputs": [],
   "source": [
    "arc_lads.head(1)"
   ]
  },
  {
   "cell_type": "code",
   "execution_count": null,
   "metadata": {},
   "outputs": [],
   "source": [
    "elec_sum = elec_data.groupby(['dwellings', 'timestep', 'lad_uk_2016', 'hourly']).sum().reset_index()"
   ]
  },
  {
   "cell_type": "code",
   "execution_count": null,
   "metadata": {},
   "outputs": [],
   "source": [
    "elec_in_arc = elec_sum.merge(\n",
    "    arc_lads.drop(columns=['geometry','in_arc']),\n",
    "    left_on='lad_uk_2016',\n",
    "    right_on='name'\n",
    ")\n",
    "elec_in_arc = highlight(elec_in_arc)[['summary_lads', 'lad_uk_2016', 'dwellings','timestep', 'hourly', 'value']]"
   ]
  },
  {
   "cell_type": "code",
   "execution_count": null,
   "metadata": {},
   "outputs": [],
   "source": [
    "peak = elec_in_arc.groupby(['lad_uk_2016','summary_lads','dwellings','timestep']) \\\n",
    "    .max() \\\n",
    "    .reset_index() \\\n",
    "    .rename(columns={\n",
    "        'dwellings': 'Scenario',\n",
    "        'summary_lads': 'Local Authority District'\n",
    "    }) \\\n",
    "    .drop(columns='hourly') \\\n",
    "    .sort_values(by=['Local Authority District', 'Scenario'])"
   ]
  },
  {
   "cell_type": "code",
   "execution_count": null,
   "metadata": {},
   "outputs": [],
   "source": [
    "fig = sbn.relplot(\n",
    "    data=peak, \n",
    "    x='timestep', \n",
    "    y='value', \n",
    "    col='Scenario', \n",
    "    hue='Local Authority District', \n",
    "    kind='line')\n",
    "fig.set_axis_labels('Year', 'Peak demand (GW)')\n",
    "fig.savefig('ed_peak_demand.png')"
   ]
  },
  {
   "cell_type": "markdown",
   "metadata": {},
   "source": [
    "# Arc LADs Total Demand"
   ]
  },
  {
   "cell_type": "code",
   "execution_count": null,
   "metadata": {},
   "outputs": [],
   "source": [
    "total_elec_dem = elec_in_arc \\\n",
    "    .drop(columns='hourly') \\\n",
    "    .groupby(by=['dwellings', 'timestep', 'lad_uk_2016', 'summary_lads']) \\\n",
    "    .sum() \\\n",
    "    .reset_index() \\\n",
    "    .rename(columns={\n",
    "        'value': 'total_demand',\n",
    "        'summary_lads': 'Local Authority District',\n",
    "        'dwellings': 'Scenario'\n",
    "    }) \\\n",
    "    .sort_values(by=['Local Authority District', 'Scenario'])\n",
    "total_elec_dem.head(2)"
   ]
  },
  {
   "cell_type": "code",
   "execution_count": null,
   "metadata": {},
   "outputs": [],
   "source": [
    "fig = sbn.relplot(\n",
    "    data=total_elec_dem, \n",
    "    x='timestep', \n",
    "    y='total_demand', \n",
    "    col='Scenario', \n",
    "    hue='Local Authority District', \n",
    "    kind='line'\n",
    ")\n",
    "fig.set_axis_labels('Year', 'Total electricity demand (GWh)')\n",
    "fig.savefig('ed_total_demand.png')"
   ]
  }
 ],
 "metadata": {
  "kernelspec": {
   "display_name": "Python 3",
   "language": "python",
   "name": "python3"
  },
  "language_info": {
   "codemirror_mode": {
    "name": "ipython",
    "version": 3
   },
   "file_extension": ".py",
   "mimetype": "text/x-python",
   "name": "python",
   "nbconvert_exporter": "python",
   "pygments_lexer": "ipython3",
   "version": "3.7.3"
  }
 },
 "nbformat": 4,
 "nbformat_minor": 2
}
