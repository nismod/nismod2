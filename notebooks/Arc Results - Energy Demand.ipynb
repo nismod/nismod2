{
 "cells": [
  {
   "cell_type": "code",
   "execution_count": null,
   "metadata": {},
   "outputs": [],
   "source": [
    "%matplotlib inline\n",
    "from arc_maps import get_data\n",
    "from smif.data_layer import Results\n",
    "import seaborn as sbn\n",
    "import matplotlib.pyplot as plt\n",
    "import numpy as np\n",
    "results = Results({'interface': 'local_csv', 'dir': '../'})\n",
    "\n",
    "sbn.set_context('talk', font_scale=0.8, rc={\"lines.linewidth\": 2.5})\n",
    "sbn.set_palette('Paired')"
   ]
  },
  {
   "cell_type": "code",
   "execution_count": null,
   "metadata": {},
   "outputs": [],
   "source": [
    "results.available_results('arc_ets__baseline')"
   ]
  },
  {
   "cell_type": "code",
   "execution_count": null,
   "metadata": {},
   "outputs": [],
   "source": [
    "results.list_sector_models('arc_ets__baseline')"
   ]
  },
  {
   "cell_type": "code",
   "execution_count": null,
   "metadata": {},
   "outputs": [],
   "source": [
    "elec_outputs = [x for x in results.list_outputs('energy_demand_constrained') if 'electricity' in x.split(\"_\")]\n",
    "\n",
    "model_run_names = ['arc_ets__new-cities', 'arc_ets__expansion']\n",
    "model_names = ['energy_demand_constrained']\n",
    "timesteps=[2015, 2030, 2050]\n",
    "\n",
    "df = results.read_results(\n",
    "        model_run_names, model_names, elec_outputs, timesteps).drop(\n",
    "    columns=['decision'])"
   ]
  },
  {
   "cell_type": "code",
   "execution_count": null,
   "metadata": {},
   "outputs": [],
   "source": [
    "total_elec_demand = df.set_index(['model_run', 'timestep', 'lad_uk_2016', 'hourly']).sum(axis=1).reset_index()"
   ]
  },
  {
   "cell_type": "code",
   "execution_count": null,
   "metadata": {},
   "outputs": [],
   "source": [
    "national_elec_demand = total_elec_demand.groupby(\n",
    "    by=['model_run', 'timestep', 'hourly']).sum().rename(columns={0:'elec_demand'})"
   ]
  },
  {
   "cell_type": "code",
   "execution_count": null,
   "metadata": {},
   "outputs": [],
   "source": [
    "data = national_elec_demand.reset_index().melt(id_vars=['model_run', 'timestep', 'hourly'])\n",
    "data['model_run'] = data['model_run'].str.replace('arc_ets__', '')\n",
    "filtered = data[data['hourly'].isin(range(0,168))]\n",
    "fig = sbn.relplot(data=filtered, x='hourly', col='timestep', y='value', row='model_run', kind='line')\n",
    "fig.savefig('ed_electricity.png', transparent=True)"
   ]
  },
  {
   "cell_type": "markdown",
   "metadata": {},
   "source": [
    "# Arc LADs: Peak demand"
   ]
  },
  {
   "cell_type": "code",
   "execution_count": null,
   "metadata": {},
   "outputs": [],
   "source": [
    "def highlight(data, id_col='geo_label'):\n",
    "    \n",
    "    def group_hlads(index):\n",
    "        if index in {'Bedford', 'Cambridge', 'Milton Keynes', 'Oxford', \n",
    "                     'Aylesbury Vale', 'Central Bedfordshire', 'Huntingdonshire', 'South Cambridgeshire'}:\n",
    "            return index\n",
    "        else:\n",
    "            return 'Other'\n",
    "    \n",
    "    data['summary_lads'] = data[id_col].apply(group_hlads) \n",
    "    \n",
    "    return data"
   ]
  },
  {
   "cell_type": "code",
   "execution_count": null,
   "metadata": {},
   "outputs": [],
   "source": [
    "filepath = '../credential.ini'\n",
    "arc_lads = get_data.get_lads(filepath)"
   ]
  },
  {
   "cell_type": "code",
   "execution_count": null,
   "metadata": {},
   "outputs": [],
   "source": [
    "df['model_run'] = df['model_run'].str.replace('arc_ets__', '')\n",
    "elec_sum = df.set_index(['model_run', 'timestep', 'lad_uk_2016', 'hourly']).sum(axis=1).reset_index()\n",
    "elec_in_arc = arc_lads.join(elec_sum.set_index('lad_uk_2016')).reset_index().drop(columns=['geometry','gid'])\n",
    "elec_in_arc = highlight(elec_in_arc)[['summary_lads','model_run','timestep', 'hourly', 0]]\n",
    "peak = elec_in_arc.groupby(['summary_lads','model_run','timestep']).max().rename(\n",
    "    columns={0: 'peak_demand'}).drop(columns='hourly')"
   ]
  },
  {
   "cell_type": "code",
   "execution_count": null,
   "metadata": {},
   "outputs": [],
   "source": [
    "ax = sbn.relplot(data=peak.reset_index(), x='timestep', y='peak_demand', \n",
    "                 col='model_run', hue='summary_lads')\n",
    "ax.set_axis_labels('year', 'peak demand (GW)')\n",
    "ax.savefig('ed_peak_demand.png', transparent=True)"
   ]
  },
  {
   "cell_type": "markdown",
   "metadata": {},
   "source": [
    "# Arc LADs Total Demand"
   ]
  },
  {
   "cell_type": "code",
   "execution_count": null,
   "metadata": {},
   "outputs": [],
   "source": [
    "elec_in_arc = arc_lads.join(elec_sum.set_index('lad_uk_2016')).reset_index().drop(columns=['geometry','gid'])\n",
    "elec_in_arc = elec_in_arc.rename(columns={0: 'peak_demand'})\n",
    "total_elec_dem = elec_in_arc.groupby(by=['model_run', 'timestep', 'geo_label']).sum().drop(columns='hourly')"
   ]
  },
  {
   "cell_type": "code",
   "execution_count": null,
   "metadata": {},
   "outputs": [],
   "source": [
    "total_elec_dem = highlight(total_elec_dem.reset_index())\n",
    "ax = sbn.relplot(data=total_elec_dem.reset_index(), x='timestep', y='peak_demand', \n",
    "                 col='model_run', hue='summary_lads', kind='line')\n",
    "ax.set_axis_labels('year', 'total elec demand (GWh)')\n",
    "ax.savefig('ed_total_demand.png', transparent=True)"
   ]
  },
  {
   "cell_type": "code",
   "execution_count": null,
   "metadata": {},
   "outputs": [],
   "source": [
    "highlight(total_elec_dem.reset_index())"
   ]
  },
  {
   "cell_type": "code",
   "execution_count": null,
   "metadata": {},
   "outputs": [],
   "source": []
  }
 ],
 "metadata": {
  "kernelspec": {
   "display_name": "Python 3",
   "language": "python",
   "name": "python3"
  },
  "language_info": {
   "codemirror_mode": {
    "name": "ipython",
    "version": 3
   },
   "file_extension": ".py",
   "mimetype": "text/x-python",
   "name": "python",
   "nbconvert_exporter": "python",
   "pygments_lexer": "ipython3",
   "version": "3.7.1"
  }
 },
 "nbformat": 4,
 "nbformat_minor": 2
}
