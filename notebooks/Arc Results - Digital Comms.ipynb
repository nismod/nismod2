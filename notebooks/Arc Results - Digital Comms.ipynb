{
 "cells": [
  {
   "cell_type": "markdown",
   "metadata": {},
   "source": [
    "# Digital Comms Results"
   ]
  },
  {
   "cell_type": "code",
   "execution_count": null,
   "metadata": {},
   "outputs": [],
   "source": [
    "%matplotlib inline\n",
    "import pandas as pd\n",
    "import seaborn as sbn\n",
    "import matplotlib.pyplot as plt\n",
    "\n",
    "sbn.set_context('talk', rc={\"lines.linewidth\": 2.5})\n",
    "sbn.set_palette('Paired')"
   ]
  },
  {
   "cell_type": "code",
   "execution_count": null,
   "metadata": {},
   "outputs": [],
   "source": [
    "dc = pd.read_csv('aggregate_scenario_metrics.csv', header=0,\n",
    "                 dtype={'year': int}\n",
    "                ).drop(columns=['Unnamed: 0'])"
   ]
  },
  {
   "cell_type": "code",
   "execution_count": null,
   "metadata": {},
   "outputs": [],
   "source": [
    "dc.columns"
   ]
  },
  {
   "cell_type": "code",
   "execution_count": null,
   "metadata": {},
   "outputs": [],
   "source": [
    "dc.columns = dc.columns.str.replace('_Arc', '')"
   ]
  },
  {
   "cell_type": "code",
   "execution_count": null,
   "metadata": {},
   "outputs": [],
   "source": [
    "dc['scenario'] = dc['scenario'].str.replace('pop-', '').str.replace('0-', '').str.replace('1-', '').str.replace('2-', '').str.replace('base', 'baseline')\n",
    "dc['strategy'] = dc['strategy'].str.replace('.csv', '').str.replace('strategy-', '')"
   ]
  },
  {
   "cell_type": "code",
   "execution_count": null,
   "metadata": {},
   "outputs": [],
   "source": [
    "units = {'cost_m': '£M', \n",
    "         'aggregate_demand_gbps': 'Gbps', \n",
    "         'aggregate_capacity_gbps': 'Gbps',\n",
    "         'aggregate_capacity_deficit_gbps': 'Gbps', \n",
    "         'population': 'people',\n",
    "         'area': 'km2', \n",
    "         'pop_density_km2': 'people km-2', \n",
    "         'demand_density_mbps_km2': 'mbps km-2'}"
   ]
  },
  {
   "cell_type": "code",
   "execution_count": null,
   "metadata": {},
   "outputs": [],
   "source": [
    "data = dc.melt(id_vars=['scenario', 'strategy', 'year'])\n",
    "data"
   ]
  },
  {
   "cell_type": "code",
   "execution_count": null,
   "metadata": {},
   "outputs": [],
   "source": [
    "output = 'aggregate_capacity_gbps'\n",
    "unit = units[output]\n",
    "filtered = data[data['variable'] == output].reset_index()\n",
    "\n",
    "fig = sbn.relplot(data=filtered, col='scenario', \n",
    "                  hue='strategy', x='year', y='value', kind='line', col_wrap=2)\n",
    "fig.set_axis_labels('year', output + \" ({})\".format(unit))\n",
    "fig.set(yscale=\"log\")\n",
    "fig.savefig('dc_capacity.png', transparent=True)"
   ]
  },
  {
   "cell_type": "code",
   "execution_count": null,
   "metadata": {},
   "outputs": [],
   "source": [
    "output = 'aggregate_capacity_deficit_gbps'\n",
    "unit = units[output]\n",
    "filtered = data[data['variable'] == output].reset_index()\n",
    "\n",
    "fig = sbn.relplot(data=filtered, col='scenario', \n",
    "                  hue='strategy', x='year', y='value', kind='line', col_wrap=2)\n",
    "fig.set_axis_labels('year', output.replace('_mbps', '') + \" ({})\".format(unit))\n",
    "fig.set(yscale=\"log\")"
   ]
  },
  {
   "cell_type": "code",
   "execution_count": null,
   "metadata": {},
   "outputs": [],
   "source": [
    "output = 'aggregate_demand_gbps'\n",
    "unit = units[output]\n",
    "filtered = data[data['variable'] == output].reset_index()\n",
    "\n",
    "fig = sbn.relplot(data=filtered, col='scenario', \n",
    "                  hue='strategy', x='year', y='value', kind='line', col_wrap=2)\n",
    "fig.set_axis_labels('year', output.replace('_mbps', '') + \" ({})\".format(unit))\n",
    "# fig.set(yscale=\"log\")"
   ]
  },
  {
   "cell_type": "code",
   "execution_count": null,
   "metadata": {},
   "outputs": [],
   "source": [
    "demand_data = dc.groupby(['year', 'scenario']).mean()['aggregate_demand_gbps'].reset_index()"
   ]
  },
  {
   "cell_type": "code",
   "execution_count": null,
   "metadata": {},
   "outputs": [],
   "source": [
    "unit = units['aggregate_demand_gbps']\n",
    "fig = sbn.relplot(data=demand_data, x='year', y='aggregate_demand_gbps', kind='line', hue='scenario')\n",
    "fig.set_axis_labels('year', output.replace('_gbps', '') + \" ({})\".format(unit))\n",
    "fig.savefig('dc_demand.png', transparent=True)"
   ]
  },
  {
   "cell_type": "code",
   "execution_count": null,
   "metadata": {},
   "outputs": [],
   "source": [
    "output = 'cost_m'\n",
    "unit = units[output]\n",
    "filtered = data[data['variable'] == output].reset_index()\n",
    "\n",
    "fig = sbn.relplot(data=filtered, col='scenario', \n",
    "                  hue='strategy', x='year', y='value', kind='line', col_wrap=2)\n",
    "fig.set_axis_labels('year', output + \" ({})\".format(unit))\n",
    "# fig.set(yscale=\"log\")\n",
    "fig.savefig('dc_cost.png', transparent=True)"
   ]
  },
  {
   "cell_type": "code",
   "execution_count": null,
   "metadata": {},
   "outputs": [],
   "source": []
  },
  {
   "cell_type": "code",
   "execution_count": null,
   "metadata": {},
   "outputs": [],
   "source": []
  },
  {
   "cell_type": "code",
   "execution_count": null,
   "metadata": {},
   "outputs": [],
   "source": []
  },
  {
   "cell_type": "code",
   "execution_count": null,
   "metadata": {},
   "outputs": [],
   "source": []
  },
  {
   "cell_type": "code",
   "execution_count": null,
   "metadata": {},
   "outputs": [],
   "source": []
  }
 ],
 "metadata": {
  "kernelspec": {
   "display_name": "Python 3",
   "language": "python",
   "name": "python3"
  },
  "language_info": {
   "codemirror_mode": {
    "name": "ipython",
    "version": 3
   },
   "file_extension": ".py",
   "mimetype": "text/x-python",
   "name": "python",
   "nbconvert_exporter": "python",
   "pygments_lexer": "ipython3",
   "version": "3.7.1"
  }
 },
 "nbformat": 4,
 "nbformat_minor": 2
}
