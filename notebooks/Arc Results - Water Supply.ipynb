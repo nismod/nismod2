{
 "cells": [
  {
   "cell_type": "code",
   "execution_count": null,
   "metadata": {},
   "outputs": [],
   "source": [
    "import glob\n",
    "import os\n",
    "\n",
    "import pandas as pd"
   ]
  },
  {
   "cell_type": "code",
   "execution_count": null,
   "metadata": {},
   "outputs": [],
   "source": [
    "glob.glob('arc*/water_supply/**/*.parquet')"
   ]
  },
  {
   "cell_type": "code",
   "execution_count": null,
   "metadata": {},
   "outputs": [],
   "source": [
    "dfs = []\n",
    "for year in range(2020, 2045):\n",
    "    df = pd.read_parquet(os.path.join(\n",
    "        'arc_ws__baseline_water_supply_data_001__BL',\n",
    "        'water_supply',\n",
    "        'decision_0',\n",
    "        'output_water_supply_requested_demand_timestep_{}.parquet'.format(year)))\n",
    "    df['timestep'] = year\n",
    "    dfs.append(df)\n",
    "    \n",
    "requested_demand = pd.concat(dfs, axis=0).reset_index().rename(columns={\n",
    "    'water_supply/demand_nodes': 'node',\n",
    "    'water_supply/days_into_year': 'day',\n",
    "    'water_supply_requested_demand': 'demand'\n",
    "})\n",
    "requested_demand.head()"
   ]
  },
  {
   "cell_type": "code",
   "execution_count": null,
   "metadata": {},
   "outputs": [],
   "source": [
    "dfs = []\n",
    "for year in range(2020, 2045):\n",
    "    df = pd.read_parquet(os.path.join(\n",
    "        'arc_ws__baseline_water_supply_data_001__BL',\n",
    "        'water_supply',\n",
    "        'decision_0',\n",
    "        'output_water_supply_reservoir_daily_volumes_timestep_{}.parquet'.format(year)))\n",
    "    df['timestep'] = year\n",
    "    dfs.append(df)\n",
    "    \n",
    "reservoir_daily = pd.concat(dfs, axis=0).reset_index().rename(columns={\n",
    "    'water_supply/reservoir_names': 'reservoir',\n",
    "    'water_supply/days_into_year': 'day',\n",
    "    'water_supply_reservoir_daily_volumes': 'volume'\n",
    "})\n",
    "reservoir_daily.head()"
   ]
  },
  {
   "cell_type": "code",
   "execution_count": null,
   "metadata": {},
   "outputs": [],
   "source": [
    "to_plot = reservoir_daily[reservoir_daily.reservoir == 'Rivington Group']\n",
    "to_plot.plot()"
   ]
  },
  {
   "cell_type": "code",
   "execution_count": null,
   "metadata": {},
   "outputs": [],
   "source": [
    "dfs = []\n",
    "for year in range(2020, 2045):\n",
    "    df = pd.read_parquet(os.path.join(\n",
    "        'arc_ws__baseline_water_supply_data_001__BL',\n",
    "        'water_supply',\n",
    "        'decision_0',\n",
    "        'output_reservoir_levels_timestep_{}.parquet'.format(year)))\n",
    "    df['timestep'] = year\n",
    "    dfs.append(df)\n",
    "    \n",
    "reservoir_annual = pd.concat(dfs, axis=0).reset_index().rename(columns={\n",
    "    'water_supply/reservoir_names': 'reservoir'\n",
    "})\n",
    "reservoir_annual.head()"
   ]
  },
  {
   "cell_type": "code",
   "execution_count": null,
   "metadata": {},
   "outputs": [],
   "source": [
    "dfs = []\n",
    "for year in range(2020, 2045):\n",
    "    df = pd.read_parquet(os.path.join(\n",
    "        'arc_ws__baseline_water_supply_data_001__BL',\n",
    "        'water_supply',\n",
    "        'decision_0',\n",
    "        'output_water_supply_global_variables_timestep_{}.parquet'.format(year)))\n",
    "    df['timestep'] = year\n",
    "    dfs.append(df)\n",
    "    \n",
    "global_vars = pd.concat(dfs, axis=0).reset_index().rename(columns={\n",
    "    'water_supply/days_into_year': 'day',\n",
    "    'water_supply/global_variable_names': 'variable',\n",
    "    'water_supply_global_variables': 'value'\n",
    "})\n",
    "global_vars.head()"
   ]
  },
  {
   "cell_type": "code",
   "execution_count": null,
   "metadata": {},
   "outputs": [],
   "source": [
    "global_vars[global_vars.variable.str.contains('SWOX')][['value']].plot()"
   ]
  }
 ],
 "metadata": {
  "kernelspec": {
   "display_name": "Python 3",
   "language": "python",
   "name": "python3"
  },
  "language_info": {
   "codemirror_mode": {
    "name": "ipython",
    "version": 3
   },
   "file_extension": ".py",
   "mimetype": "text/x-python",
   "name": "python",
   "nbconvert_exporter": "python",
   "pygments_lexer": "ipython3",
   "version": "3.7.3"
  }
 },
 "nbformat": 4,
 "nbformat_minor": 2
}
