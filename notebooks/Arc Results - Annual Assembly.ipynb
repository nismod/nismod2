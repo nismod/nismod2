{
 "cells": [
  {
   "cell_type": "markdown",
   "metadata": {},
   "source": [
    "# Arc Results"
   ]
  },
  {
   "cell_type": "code",
   "execution_count": null,
   "metadata": {},
   "outputs": [],
   "source": [
    "%matplotlib inline\n",
    "from arc_maps import get_data\n",
    "from smif.data_layer import Results\n",
    "import seaborn as sbn\n",
    "import matplotlib.pyplot as plt\n",
    "import numpy as np\n",
    "results = Results({'interface': 'local_csv', 'dir': '../'})\n",
    "\n",
    "sbn.set_context('talk', rc={\"lines.linewidth\": 2.5})\n",
    "sbn.set_palette(sbn.color_palette('Paired'))"
   ]
  },
  {
   "cell_type": "code",
   "execution_count": null,
   "metadata": {},
   "outputs": [],
   "source": [
    "filepath = '../credential.ini'\n",
    "arc_lads = get_data.get_lads(filepath)"
   ]
  },
  {
   "cell_type": "markdown",
   "metadata": {},
   "source": [
    "# View the LADs"
   ]
  },
  {
   "cell_type": "code",
   "execution_count": null,
   "metadata": {},
   "outputs": [],
   "source": [
    "def plot_highlighted_lads(arc_lads):\n",
    "    \n",
    "    arc_lads = highlight(arc_lads.reset_index())\n",
    "    \n",
    "#     arc_lads = arc_lads[~(arc_lads['summary_lads'] == 'Other')]\n",
    "    \n",
    "    ax = arc_lads.plot(column='summary_lads')\n",
    "    \n",
    "    centroids = [(float(x.x), float(x.y)) for x in list(arc_lads.centroid)]\n",
    "    for label, coord in zip(arc_lads['summary_lads'].values, centroids):\n",
    "        if label != 'Other':\n",
    "            plt.annotate(label, coord)\n",
    "    ax.set_axis_off()\n",
    "    \n",
    "with sbn.plotting_context('paper'):\n",
    "    plot_highlighted_lads(arc_lads)"
   ]
  },
  {
   "cell_type": "code",
   "execution_count": null,
   "metadata": {},
   "outputs": [],
   "source": [
    "highlight(arc_lads.reset_index())"
   ]
  },
  {
   "cell_type": "code",
   "execution_count": null,
   "metadata": {},
   "outputs": [],
   "source": [
    "results.list_model_runs()"
   ]
  },
  {
   "cell_type": "code",
   "execution_count": null,
   "metadata": {},
   "outputs": [],
   "source": [
    "results.available_results('arc_et__baseline')"
   ]
  },
  {
   "cell_type": "code",
   "execution_count": null,
   "metadata": {},
   "outputs": [],
   "source": [
    "results.list_scenario_outputs('socio-economic')\n",
    "dwellings = results.read_scenario_data(\n",
    "    'socio-economic', 'arc_baseline', 'dwellings', [2015, 2020, 2030, 2050])\n",
    "# sbn.relplot(x='timestep', y='gva_per_sector', hue='sectors', kind='line', data=gva.reset_index())"
   ]
  },
  {
   "cell_type": "markdown",
   "metadata": {},
   "source": [
    "# Plotting Arc scenario data\n",
    "\n",
    "The outputs of the socio economic scenarios include:"
   ]
  },
  {
   "cell_type": "code",
   "execution_count": null,
   "metadata": {},
   "outputs": [],
   "source": [
    "results.list_scenario_outputs('socio-economic')"
   ]
  },
  {
   "cell_type": "code",
   "execution_count": null,
   "metadata": {},
   "outputs": [],
   "source": [
    "results.available_results('arc_et__baseline')"
   ]
  },
  {
   "cell_type": "code",
   "execution_count": null,
   "metadata": {},
   "outputs": [],
   "source": [
    "def get_scenario_data(scenario_output):\n",
    "\n",
    "    arc_lads = get_data.get_lads(filepath)\n",
    "\n",
    "    data = ['arc_baseline', 'arc_unplanned', 'arc_new-cities', 'arc_expansion']\n",
    "    result = []\n",
    "\n",
    "    for name in data:\n",
    "\n",
    "        result.append(results.read_scenario_data(\n",
    "        'socio-economic', name, scenario_output, [2015, 2020, 2030, 2050]).set_index(\n",
    "        ['lad_uk_2016', 'timestep']))\n",
    "\n",
    "    # Make the initial df from the baseline data\n",
    "    dwellings = result.pop(0).reset_index().set_index(['lad_uk_2016', 'timestep']).rename(columns={scenario_output: 'arc_baseline'})\n",
    "    data.pop(0)\n",
    "\n",
    "    for name, df in zip(data, result):\n",
    "\n",
    "        df = df.reset_index().set_index(['lad_uk_2016', 'timestep'])\n",
    "        suffix = \"_{}\".format(name.split(\"_\")[1])\n",
    "        dwellings[name] = df[scenario_output]\n",
    "\n",
    "    arc_dwellings = arc_lads.join(\n",
    "        dwellings.reset_index().set_index(\n",
    "        ['lad_uk_2016'])).drop(\n",
    "        columns=['gid']).rename(\n",
    "        columns={scenario_output: 'baseline'})\n",
    "    \n",
    "    return arc_dwellings"
   ]
  },
  {
   "cell_type": "code",
   "execution_count": null,
   "metadata": {},
   "outputs": [],
   "source": [
    "def reshape(df):\n",
    "    \n",
    "    return df.melt(id_vars=['geo_label', 'timestep', 'geometry'], \n",
    "                  value_vars=['arc_baseline',  'arc_unplanned', 'arc_new-cities', 'arc_expansion'],\n",
    "                  var_name='scenario')\n",
    "\n",
    "def plot_total_scenario_data(df, y_label=None):\n",
    "    data = reshape(df).groupby(by=['scenario', 'timestep']).sum().reset_index()\n",
    "    fig = sbn.relplot(x='timestep', y='value', hue='scenario', data=data, kind='line',\n",
    "                      height=4)\n",
    "    fig.set_axis_labels('year', y_label)\n",
    "    return fig\n",
    "    \n",
    "def plot_scenario_data(df):\n",
    "    sbn.set_palette(\"Paired\")\n",
    "    data = reshape(df)\n",
    "      \n",
    "    return sbn.relplot(x='timestep', y='value', hue='geo_label', data=data, col='scenario', kind='line',\n",
    "                      col_wrap=2)\n",
    "    \n",
    "def plot_scenario_data_highlight(df, y_label=None):\n",
    "    \n",
    "    data = reshape(df)\n",
    "    data = highlight(data)   \n",
    "    fig = sbn.relplot(x='timestep', y='value', hue='summary_lads', \n",
    "                      data=data, col='scenario', kind='line', col_wrap=2)\n",
    "    fig.set_axis_labels('year', y_label)\n",
    "    return fig\n",
    "\n",
    "def highlight(data):\n",
    "    \n",
    "    def group_hlads(index):\n",
    "        if index in {'Bedford', 'Cambridge', 'Milton Keynes', 'Oxford', \n",
    "                     'Aylesbury Vale', 'Central Bedfordshire', 'Huntingdonshire', 'South Cambridgeshire'}:\n",
    "            return index\n",
    "        else:\n",
    "            return 'Other'\n",
    "    \n",
    "    data['summary_lads'] = data['geo_label'].apply(group_hlads) \n",
    "    \n",
    "    return data\n",
    "\n",
    "def plot_bar_highlight(df, y_label=None):\n",
    "    \n",
    "    data = reshape(df)\n",
    "    data = highlight(data)\n",
    "    fig = sbn.catplot(x='timestep', y='value', hue='summary_lads', data=data, col='scenario', \n",
    "                      kind='bar', col_wrap=2)\n",
    "    fig.set_axis_labels('year', y_label)\n",
    "    return fig\n",
    "   "
   ]
  },
  {
   "cell_type": "code",
   "execution_count": null,
   "metadata": {},
   "outputs": [],
   "source": [
    "arc_dwellings = get_scenario_data('dwellings')\n",
    "plot_scenario_data(arc_dwellings)"
   ]
  },
  {
   "cell_type": "code",
   "execution_count": null,
   "metadata": {},
   "outputs": [],
   "source": [
    "fig = plot_scenario_data_highlight(arc_dwellings, 'dwellings')\n",
    "fig.savefig(\"dwellings_highlight.png\")"
   ]
  },
  {
   "cell_type": "code",
   "execution_count": null,
   "metadata": {},
   "outputs": [],
   "source": [
    "plot_bar_highlight(arc_dwellings, 'dwellings')"
   ]
  },
  {
   "cell_type": "code",
   "execution_count": null,
   "metadata": {},
   "outputs": [],
   "source": [
    "arc_population = get_scenario_data('population')\n",
    "fig = plot_scenario_data_highlight(arc_population, 'people')\n",
    "fig.savefig(\"population_highlight.png\")"
   ]
  },
  {
   "cell_type": "code",
   "execution_count": null,
   "metadata": {},
   "outputs": [],
   "source": [
    "plot_scenario_data_highlight(arc_population, 'people')"
   ]
  },
  {
   "cell_type": "code",
   "execution_count": null,
   "metadata": {},
   "outputs": [],
   "source": [
    "arc_gva = get_scenario_data('gva')"
   ]
  },
  {
   "cell_type": "code",
   "execution_count": null,
   "metadata": {},
   "outputs": [],
   "source": [
    "arc_gva.head()"
   ]
  },
  {
   "cell_type": "code",
   "execution_count": null,
   "metadata": {},
   "outputs": [],
   "source": [
    "plot_scenario_data(arc_gva)"
   ]
  },
  {
   "cell_type": "code",
   "execution_count": null,
   "metadata": {},
   "outputs": [],
   "source": [
    "plot_total_scenario_data(arc_dwellings, 'dwellings').savefig(\"total_dwellings.png\")"
   ]
  },
  {
   "cell_type": "code",
   "execution_count": null,
   "metadata": {},
   "outputs": [],
   "source": [
    "plot_total_scenario_data(arc_gva, 'gva').savefig(\"total_gva.png\")"
   ]
  },
  {
   "cell_type": "code",
   "execution_count": null,
   "metadata": {},
   "outputs": [],
   "source": [
    "plot_total_scenario_data(arc_population, 'people').savefig(\"total_population.png\")"
   ]
  },
  {
   "cell_type": "code",
   "execution_count": null,
   "metadata": {},
   "outputs": [],
   "source": [
    "arc_jobs = get_scenario_data('employment')"
   ]
  },
  {
   "cell_type": "code",
   "execution_count": null,
   "metadata": {},
   "outputs": [],
   "source": [
    "plot_total_scenario_data(arc_jobs, 'jobs').savefig(\"total_jobs.png\")"
   ]
  },
  {
   "cell_type": "code",
   "execution_count": null,
   "metadata": {},
   "outputs": [],
   "source": [
    "arc_jobs.head(10)"
   ]
  },
  {
   "cell_type": "code",
   "execution_count": null,
   "metadata": {},
   "outputs": [],
   "source": [
    "fig = plot_scenario_data_highlight(arc_jobs)\n",
    "fig.savefig(\"jobs_highlight.png\")"
   ]
  },
  {
   "cell_type": "code",
   "execution_count": null,
   "metadata": {},
   "outputs": [],
   "source": [
    "df = arc_dwellings.melt(id_vars=['geo_label', 'timestep', 'geometry'], \n",
    "                  value_vars=['arc_baseline', 'arc_new-cities', 'arc_expansion', 'arc_unplanned'],\n",
    "                  var_name='scenario')\n",
    "highlight_lads = set(df[df['timestep'] == 2050 ].sort_values('value')[-15:]['geo_label'])"
   ]
  },
  {
   "cell_type": "code",
   "execution_count": null,
   "metadata": {},
   "outputs": [],
   "source": [
    "def group_hlads(index):\n",
    "    if index in highlight_lads:\n",
    "        return index\n",
    "    else:\n",
    "        return 'Other'"
   ]
  },
  {
   "cell_type": "code",
   "execution_count": null,
   "metadata": {},
   "outputs": [],
   "source": [
    "arc_dwellings.head()#.reset_index().set_index(['timestep', 'geo_label']).groupby(by=['geo_label'], observed=True).sum()\n"
   ]
  },
  {
   "cell_type": "markdown",
   "metadata": {},
   "source": [
    "# Plot difference spatially"
   ]
  },
  {
   "cell_type": "code",
   "execution_count": null,
   "metadata": {},
   "outputs": [],
   "source": [
    "def plot_difference_spatially(df, arc_lads, remove_2015=True):\n",
    "\n",
    "    melted_dwellings = reshape(df).drop(columns='geometry')\n",
    "    \n",
    "    def log(series):\n",
    "        return series.apply(lambda x: np.log(x))\n",
    "    \n",
    "    melted_dwellings['norm_value'] = log(melted_dwellings['value'])\n",
    "    \n",
    "    baseline = melted_dwellings[melted_dwellings['scenario']=='arc_baseline'].drop(columns='scenario')\n",
    "    non_baseline = melted_dwellings[~(melted_dwellings['scenario']=='arc_baseline')]\n",
    "    \n",
    "    diff = non_baseline.set_index(['scenario', 'geo_label', 'timestep']).sub(\n",
    "                baseline.set_index(['geo_label', 'timestep'])).reset_index()\n",
    "    diff = highlight(diff)  \n",
    "    \n",
    "    diff_spatial = arc_lads.reset_index().set_index('geo_label').join(\n",
    "                       diff.set_index('geo_label'), rsuffix='bla')\n",
    "    \n",
    "    cmap = sbn.diverging_palette(h_neg=220, h_pos=10, s=74, l=50, sep=10, n=9, as_cmap=True)\n",
    "    \n",
    "    def plot_diff_map(data, *args, **kwargs):\n",
    "        cax = plt.gca()\n",
    "        ax = data.plot(column='norm_value', ax=cax, cmap=cmap, \n",
    "                       vmin=-diff_spatial['norm_value'].max(), vmax=diff_spatial['norm_value'].max())\n",
    "        ax.set_axis_off()\n",
    "        return ax\n",
    "\n",
    "    # Remove baseline (no difference across scenarios)\n",
    "    if remove_2015:\n",
    "        diff_spatial = diff_spatial[~(diff_spatial['timestep'] == 2015)]\n",
    "\n",
    "    with sbn.plotting_context('paper'):\n",
    "        g = sbn.FacetGrid(data=diff_spatial, row='scenario', col='timestep', \n",
    "                          height=4, sharex=True, sharey=True)\n",
    "        g.map_dataframe(plot_diff_map)\n",
    "        \n",
    "    return g"
   ]
  },
  {
   "cell_type": "code",
   "execution_count": null,
   "metadata": {},
   "outputs": [],
   "source": [
    "plot_difference_spatially(arc_dwellings, arc_lads).savefig(\"dwellings_difference.png\")"
   ]
  },
  {
   "cell_type": "code",
   "execution_count": null,
   "metadata": {},
   "outputs": [],
   "source": [
    "plot_difference_spatially(arc_population, arc_lads).savefig('population_difference.png')"
   ]
  },
  {
   "cell_type": "code",
   "execution_count": null,
   "metadata": {},
   "outputs": [],
   "source": [
    "plot_difference_spatially(arc_jobs, arc_lads, remove_2015=False).savefig('jobs_difference.png')"
   ]
  },
  {
   "cell_type": "code",
   "execution_count": null,
   "metadata": {},
   "outputs": [],
   "source": [
    "\n"
   ]
  },
  {
   "cell_type": "code",
   "execution_count": null,
   "metadata": {},
   "outputs": [],
   "source": []
  }
 ],
 "metadata": {
  "kernelspec": {
   "display_name": "Python 3",
   "language": "python",
   "name": "python3"
  },
  "language_info": {
   "codemirror_mode": {
    "name": "ipython",
    "version": 3
   },
   "file_extension": ".py",
   "mimetype": "text/x-python",
   "name": "python",
   "nbconvert_exporter": "python",
   "pygments_lexer": "ipython3",
   "version": "3.7.1"
  }
 },
 "nbformat": 4,
 "nbformat_minor": 2
}
