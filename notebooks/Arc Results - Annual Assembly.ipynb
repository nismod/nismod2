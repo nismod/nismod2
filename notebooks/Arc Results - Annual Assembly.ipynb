{
 "cells": [
  {
   "cell_type": "markdown",
   "metadata": {},
   "source": [
    "# Arc Results"
   ]
  },
  {
   "cell_type": "code",
   "execution_count": null,
   "metadata": {},
   "outputs": [],
   "source": [
    "%matplotlib inline\n",
    "from arc_maps import get_data\n",
    "from smif.data_layer import Results\n",
    "import seaborn as sbn\n",
    "import matplotlib.pyplot as plt\n",
    "import numpy as np\n",
    "results = Results({'interface': 'local_csv', 'dir': '../'})\n",
    "\n",
    "sbn.set_context('talk', rc={\"lines.linewidth\": 2.5})\n",
    "sbn.set_palette('Paired')"
   ]
  },
  {
   "cell_type": "code",
   "execution_count": null,
   "metadata": {},
   "outputs": [],
   "source": [
    "filepath = '../credential.ini'\n",
    "arc_lads = get_data.get_lads(filepath)"
   ]
  },
  {
   "cell_type": "markdown",
   "metadata": {},
   "source": [
    "# View the LADs"
   ]
  },
  {
   "cell_type": "code",
   "execution_count": null,
   "metadata": {},
   "outputs": [],
   "source": [
    "def highlight(data, id_col='geo_label'):\n",
    "    \n",
    "    def group_hlads(index):\n",
    "        if index in {'Bedford', 'Cambridge', 'Milton Keynes', 'Oxford', \n",
    "                     'Aylesbury Vale', 'Central Bedfordshire', 'Huntingdonshire', 'South Cambridgeshire'}:\n",
    "            return index\n",
    "        else:\n",
    "            return 'Other'\n",
    "    \n",
    "    data['summary_lads'] = data[id_col].apply(group_hlads) \n",
    "    \n",
    "    return data\n",
    "\n",
    "def plot_highlighted_lads(arc_lads):\n",
    "    \n",
    "    arc_lads = highlight(arc_lads.reset_index())\n",
    "    \n",
    "    # Plot the LADs\n",
    "    ax = arc_lads.plot(column='summary_lads', edgecolor='grey')\n",
    "    \n",
    "    # Add the labels\n",
    "    centroids = [(float(x.x), float(x.y)) for x in list(arc_lads.centroid)]\n",
    "    for label, coord in zip(arc_lads['summary_lads'].values, centroids):\n",
    "        if label != 'Other':\n",
    "            plt.annotate(label, coord, ha='center', va='center',\n",
    "                         color='black', weight='bold')\n",
    "    ax.set_axis_off()\n",
    "    return ax\n",
    "    \n",
    "\n",
    "with sbn.plotting_context('paper'):\n",
    "    sbn.set(rc={'figure.figsize': (11.7, 8.27)})\n",
    "    ax = plot_highlighted_lads(arc_lads)\n",
    "    ax.get_figure().savefig(\"lads_highlighted.png\")"
   ]
  },
  {
   "cell_type": "code",
   "execution_count": null,
   "metadata": {},
   "outputs": [],
   "source": [
    "highlight(arc_lads.reset_index())"
   ]
  },
  {
   "cell_type": "code",
   "execution_count": null,
   "metadata": {},
   "outputs": [],
   "source": [
    "results.list_model_runs()"
   ]
  },
  {
   "cell_type": "code",
   "execution_count": null,
   "metadata": {},
   "outputs": [],
   "source": [
    "results.available_results('arc_ets__baseline')"
   ]
  },
  {
   "cell_type": "code",
   "execution_count": null,
   "metadata": {},
   "outputs": [],
   "source": [
    "results.list_scenario_outputs('socio-economic')\n",
    "dwellings = results.read_scenario_data(\n",
    "    'socio-economic', 'arc_baseline', 'dwellings', [2015, 2020, 2030, 2050])\n",
    "# sbn.relplot(x='timestep', y='gva_per_sector', hue='sectors', kind='line', data=gva.reset_index())"
   ]
  },
  {
   "cell_type": "markdown",
   "metadata": {},
   "source": [
    "# Plotting Arc scenario data\n",
    "\n",
    "The outputs of the socio economic scenarios include:"
   ]
  },
  {
   "cell_type": "code",
   "execution_count": null,
   "metadata": {},
   "outputs": [],
   "source": [
    "results.list_scenario_outputs('socio-economic')"
   ]
  },
  {
   "cell_type": "code",
   "execution_count": null,
   "metadata": {},
   "outputs": [],
   "source": [
    "results.available_results('arc_et__baseline')"
   ]
  },
  {
   "cell_type": "code",
   "execution_count": null,
   "metadata": {},
   "outputs": [],
   "source": [
    "def get_scenario_data(scenario_output):\n",
    "\n",
    "    arc_lads = get_data.get_lads(filepath)\n",
    "\n",
    "    scenarios = ['arc_unplanned', 'arc_new-cities', 'arc_expansion']\n",
    "    result = []\n",
    "\n",
    "    for scenario in scenarios:\n",
    "\n",
    "        result.append(results.read_scenario_data(\n",
    "        'socio-economic', scenario, scenario_output, [2015, 2020, 2030, 2050]).set_index(\n",
    "        ['lad_uk_2016', 'timestep']))\n",
    "\n",
    "    # Make the initial df from the baseline data\n",
    "    baseline_data = results.read_scenario_data(\n",
    "        'socio-economic', 'arc_baseline', scenario_output, [2015, 2020, 2030, 2050]).set_index(\n",
    "        ['lad_uk_2016', 'timestep']).rename(columns={scenario_output: 'baseline'})\n",
    "    \n",
    "    for name, df in zip(scenarios, result):\n",
    "\n",
    "        df = df.reset_index().set_index(['lad_uk_2016', 'timestep'])\n",
    "        suffix = \"_{}\".format(name.split(\"_\")[1])\n",
    "        baseline_data[suffix[1:]] = df[scenario_output]\n",
    "\n",
    "    arc_data = arc_lads.join(\n",
    "        baseline_data.reset_index().set_index(\n",
    "        ['lad_uk_2016'])).drop(\n",
    "        columns=['gid']).rename(\n",
    "        columns={scenario_output: 'baseline'})\n",
    "    \n",
    "    return arc_data\n"
   ]
  },
  {
   "cell_type": "code",
   "execution_count": null,
   "metadata": {},
   "outputs": [],
   "source": [
    "def reshape(df):\n",
    "    \n",
    "    return df.melt(id_vars=['geo_label', 'timestep', 'geometry'], \n",
    "                  value_vars=['baseline',  'unplanned', 'new-cities', 'expansion'],\n",
    "                  var_name='scenario')\n",
    "\n",
    "def plot_total_scenario_data(df, y_label=None):\n",
    "    data = reshape(df).groupby(by=['scenario', 'timestep']).sum().reset_index()\n",
    "    fig = sbn.relplot(x='timestep', y='value', hue='scenario', data=data, kind='line',\n",
    "                      height=4)\n",
    "    fig.set_axis_labels('year', y_label)\n",
    "    return fig\n",
    "    \n",
    "def plot_scenario_data(df):\n",
    "#     sbn.set_palette(\"Paired\")\n",
    "    data = reshape(df)\n",
    "      \n",
    "    return sbn.relplot(x='timestep', y='value', hue='geo_label', data=data, col='scenario', kind='line',\n",
    "                      col_wrap=2)\n",
    "    \n",
    "def plot_scenario_data_highlight(df, y_label=None):\n",
    "    \n",
    "    data = reshape(df)\n",
    "    data = highlight(data)   \n",
    "    fig = sbn.relplot(x='timestep', y='value', hue='summary_lads', \n",
    "                      data=data, col='scenario', kind='line', col_wrap=2)\n",
    "    fig.set_axis_labels('year', y_label)\n",
    "    return fig\n",
    "\n",
    "def plot_bar_highlight(df, y_label=None):\n",
    "    \n",
    "    data = reshape(df)\n",
    "    data = highlight(data)\n",
    "    fig = sbn.catplot(x='timestep', y='value', hue='summary_lads', data=data, col='scenario', \n",
    "                      kind='bar', col_wrap=2)\n",
    "    fig.set_axis_labels('year', y_label)\n",
    "    return fig\n",
    "   "
   ]
  },
  {
   "cell_type": "code",
   "execution_count": null,
   "metadata": {},
   "outputs": [],
   "source": [
    "arc_dwellings = get_scenario_data('dwellings')\n",
    "arc_floor = get_scenario_data('floor_area')\n",
    "arc_population = get_scenario_data('population')\n",
    "arc_jobs = get_scenario_data('employment')\n"
   ]
  },
  {
   "cell_type": "code",
   "execution_count": null,
   "metadata": {},
   "outputs": [],
   "source": [
    "# arc_dwellings.head()\n",
    "plot_scenario_data(arc_dwellings)"
   ]
  },
  {
   "cell_type": "code",
   "execution_count": null,
   "metadata": {},
   "outputs": [],
   "source": [
    "fig = plot_scenario_data_highlight(arc_dwellings, 'dwellings')\n",
    "fig.savefig(\"dwellings_highlight.png\")"
   ]
  },
  {
   "cell_type": "code",
   "execution_count": null,
   "metadata": {},
   "outputs": [],
   "source": [
    "filtered = arc_floor[arc_floor['residential_or_non']=='residential']\n",
    "fig = plot_scenario_data_highlight(filtered, 'floor area')\n",
    "fig.savefig(\"floor_area_highlight.png\")"
   ]
  },
  {
   "cell_type": "code",
   "execution_count": null,
   "metadata": {},
   "outputs": [],
   "source": [
    "plot_bar_highlight(arc_dwellings, 'dwellings')"
   ]
  },
  {
   "cell_type": "code",
   "execution_count": null,
   "metadata": {},
   "outputs": [],
   "source": [
    "fig = plot_scenario_data_highlight(arc_population, 'people')\n",
    "fig.savefig(\"population_highlight.png\")"
   ]
  },
  {
   "cell_type": "code",
   "execution_count": null,
   "metadata": {},
   "outputs": [],
   "source": [
    "arc_gva = get_scenario_data('gva')"
   ]
  },
  {
   "cell_type": "code",
   "execution_count": null,
   "metadata": {},
   "outputs": [],
   "source": [
    "arc_gva.head()"
   ]
  },
  {
   "cell_type": "code",
   "execution_count": null,
   "metadata": {},
   "outputs": [],
   "source": [
    "plot_scenario_data_highlight(arc_gva)"
   ]
  },
  {
   "cell_type": "code",
   "execution_count": null,
   "metadata": {},
   "outputs": [],
   "source": [
    "plot_total_scenario_data(arc_dwellings, 'dwellings').savefig(\"total_dwellings.png\")"
   ]
  },
  {
   "cell_type": "code",
   "execution_count": null,
   "metadata": {},
   "outputs": [],
   "source": [
    "plot_total_scenario_data(arc_gva, 'gva').savefig(\"total_gva.png\")"
   ]
  },
  {
   "cell_type": "code",
   "execution_count": null,
   "metadata": {},
   "outputs": [],
   "source": [
    "plot_total_scenario_data(arc_population, 'people').savefig(\"total_population.png\")"
   ]
  },
  {
   "cell_type": "code",
   "execution_count": null,
   "metadata": {},
   "outputs": [],
   "source": [
    "plot_total_scenario_data(arc_jobs, 'jobs').savefig(\"total_jobs.png\")"
   ]
  },
  {
   "cell_type": "code",
   "execution_count": null,
   "metadata": {},
   "outputs": [],
   "source": [
    "arc_jobs.head(10)"
   ]
  },
  {
   "cell_type": "code",
   "execution_count": null,
   "metadata": {},
   "outputs": [],
   "source": [
    "fig = plot_scenario_data_highlight(arc_jobs)\n",
    "fig.savefig(\"jobs_highlight.png\")"
   ]
  },
  {
   "cell_type": "code",
   "execution_count": null,
   "metadata": {},
   "outputs": [],
   "source": [
    "fig = plot_scenario_data_highlight(arc_gva)\n",
    "fig.savefig(\"gva_highlight.png\")"
   ]
  },
  {
   "cell_type": "markdown",
   "metadata": {},
   "source": [
    "# Plot difference spatially"
   ]
  },
  {
   "cell_type": "code",
   "execution_count": null,
   "metadata": {},
   "outputs": [],
   "source": [
    "def plot_difference_spatially(df, arc_lads, remove_2015=True):\n",
    "\n",
    "    melted_dwellings = reshape(df).drop(columns='geometry')\n",
    "    \n",
    "    def log(series):\n",
    "        return series.apply(lambda x: np.log(x))\n",
    "    \n",
    "    melted_dwellings['norm_value'] = log(melted_dwellings['value'])\n",
    "    \n",
    "    baseline = melted_dwellings[melted_dwellings['scenario']=='baseline'].drop(columns='scenario')\n",
    "    non_baseline = melted_dwellings[~(melted_dwellings['scenario']=='baseline')]\n",
    "    \n",
    "    diff = non_baseline.set_index(['scenario', 'geo_label', 'timestep']).sub(\n",
    "                baseline.set_index(['geo_label', 'timestep'])).reset_index()\n",
    "    diff = highlight(diff)  \n",
    "    \n",
    "    diff_spatial = arc_lads.reset_index().set_index('geo_label').join(\n",
    "                       diff.set_index('geo_label'), rsuffix='bla')\n",
    "    \n",
    "    cmap = sbn.diverging_palette(h_neg=220, h_pos=10, s=74, l=50, sep=10, n=9, as_cmap=True)\n",
    "    \n",
    "    def plot_diff_map(data, *args, **kwargs):\n",
    "        cax = plt.gca()\n",
    "        ax = data.plot(column='norm_value', ax=cax, cmap=cmap, \n",
    "                       vmin=-diff_spatial['norm_value'].max(), vmax=diff_spatial['norm_value'].max())\n",
    "        ax.set_axis_off()\n",
    "        return ax\n",
    "\n",
    "    # Remove baseline (no difference across scenarios)\n",
    "    if remove_2015:\n",
    "        diff_spatial = diff_spatial[~(diff_spatial['timestep'] == 2015)]\n",
    "\n",
    "    with sbn.plotting_context('paper'):\n",
    "        g = sbn.FacetGrid(data=diff_spatial, row='scenario', col='timestep', \n",
    "                          height=4, sharex=True, sharey=True)\n",
    "        g.map_dataframe(plot_diff_map)\n",
    "        \n",
    "    return g"
   ]
  },
  {
   "cell_type": "code",
   "execution_count": null,
   "metadata": {},
   "outputs": [],
   "source": [
    "plot_difference_spatially(arc_dwellings, arc_lads).savefig(\"dwellings_difference.png\")"
   ]
  },
  {
   "cell_type": "code",
   "execution_count": null,
   "metadata": {},
   "outputs": [],
   "source": [
    "plot_difference_spatially(arc_population, arc_lads).savefig('population_difference.png')"
   ]
  },
  {
   "cell_type": "code",
   "execution_count": null,
   "metadata": {},
   "outputs": [],
   "source": [
    "plot_difference_spatially(arc_jobs, arc_lads, remove_2015=False).savefig('jobs_difference.png')"
   ]
  },
  {
   "cell_type": "code",
   "execution_count": null,
   "metadata": {},
   "outputs": [],
   "source": [
    "plot_difference_spatially(arc_gva, arc_lads, remove_2015=False).savefig('gva_difference.png')"
   ]
  },
  {
   "cell_type": "markdown",
   "metadata": {},
   "source": [
    "# Baseline Results"
   ]
  },
  {
   "cell_type": "code",
   "execution_count": null,
   "metadata": {},
   "outputs": [],
   "source": [
    "results.available_results('arc_ets__baseline')"
   ]
  },
  {
   "cell_type": "code",
   "execution_count": null,
   "metadata": {},
   "outputs": [],
   "source": [
    "results.list_sector_models('arc_ets__baseline')"
   ]
  },
  {
   "cell_type": "code",
   "execution_count": null,
   "metadata": {},
   "outputs": [],
   "source": [
    "results.list_outputs('aggregate_energy_constrained')"
   ]
  },
  {
   "cell_type": "code",
   "execution_count": null,
   "metadata": {},
   "outputs": [],
   "source": [
    "model_run_names = ['arc_ets__baseline', 'arc_ets__expansion']\n",
    "model_names = ['aggregate_energy_constrained']\n",
    "output_names = ['elecload']\n",
    "timesteps=[2015, 2030, 2050]\n",
    "elecload = arc_lads.join(\n",
    "    results.read_results(\n",
    "        model_run_names, model_names, output_names, timesteps).set_index('lad_uk_2016').drop(columns=['decision']))"
   ]
  },
  {
   "cell_type": "code",
   "execution_count": null,
   "metadata": {},
   "outputs": [],
   "source": [
    "arc_elecload = elecload.reset_index().melt(\n",
    "    id_vars=['index', 'geo_label', 'geometry', 'gid', 'timestep', 'hourly', 'model_run'], \n",
    "    value_vars='elecload')"
   ]
  },
  {
   "cell_type": "code",
   "execution_count": null,
   "metadata": {},
   "outputs": [],
   "source": [
    "arc_elecload.head()"
   ]
  },
  {
   "cell_type": "code",
   "execution_count": null,
   "metadata": {},
   "outputs": [],
   "source": [
    "data = arc_elecload.drop(columns=['geometry', 'gid'])\n",
    "data = data.groupby(by=['model_run', 'timestep', 'hourly']).sum().reset_index()\n",
    "\n",
    "sbn.relplot(x='hourly', y='value', row='model_run', col='timestep', data=data, kind='line')"
   ]
  },
  {
   "cell_type": "markdown",
   "metadata": {},
   "source": [
    "# Visualise sos as a graph"
   ]
  },
  {
   "cell_type": "code",
   "execution_count": null,
   "metadata": {},
   "outputs": [],
   "source": [
    "import networkx as nx"
   ]
  },
  {
   "cell_type": "code",
   "execution_count": null,
   "metadata": {},
   "outputs": [],
   "source": [
    "def visualise_sos(store, model_run):\n",
    "    \"\"\"Write out a graphml file showing directed links between scenarios, models and adaptors\n",
    "    \"\"\"\n",
    "    config = store.read_model_run(model_run)\n",
    "    sos = store.read_sos_model(config['sos_model'])\n",
    "    models = sos['sector_models']\n",
    "    scenarios = sos['scenarios']\n",
    "    nodes = models + scenarios\n",
    "    G = nx.DiGraph(model_run='arc_ets__expansion', sos_model=sos['name'])\n",
    "    for x in nodes:\n",
    "        G.add_node(x, name=x) \n",
    "    for dep in sos['model_dependencies'] + sos['scenario_dependencies']:\n",
    "        G.add_edge(dep['source'], dep['sink'])\n",
    "    nx.write_graphml_lxml(G, \"{}.graphml\".format(model_run))"
   ]
  },
  {
   "cell_type": "code",
   "execution_count": null,
   "metadata": {},
   "outputs": [],
   "source": [
    "store = results._store\n",
    "model_run = 'arc_et__expansion'\n",
    "visualise_sos(store, model_run)"
   ]
  },
  {
   "cell_type": "markdown",
   "metadata": {},
   "source": [
    "# Debugging expansion scenario"
   ]
  },
  {
   "cell_type": "code",
   "execution_count": null,
   "metadata": {},
   "outputs": [],
   "source": [
    "model_run = ['arc_ets__expansion']\n",
    "model_names = ['energy_demand_constrained']\n",
    "output_names = ['industry_gas_boiler_gas']\n",
    "results.available_results(model_run[0])['sector_models'][model_names[0]]['outputs'].keys()"
   ]
  },
  {
   "cell_type": "code",
   "execution_count": null,
   "metadata": {},
   "outputs": [],
   "source": [
    "data = results.read_results(model_run, model_names, output_names)"
   ]
  },
  {
   "cell_type": "code",
   "execution_count": null,
   "metadata": {},
   "outputs": [],
   "source": [
    "# Show all entries where there is missing data\n",
    "data[data['industry_gas_boiler_gas'].isnull()==True]"
   ]
  },
  {
   "cell_type": "markdown",
   "metadata": {},
   "source": [
    "# Investigate GVA sectoral and total "
   ]
  },
  {
   "cell_type": "code",
   "execution_count": null,
   "metadata": {},
   "outputs": [],
   "source": [
    "def get_scenario_data(variable, timesteps):\n",
    "    data = results.read_scenario_data('socio-economic', 'arc_baseline', variable, timesteps).rename(\n",
    "        columns={variable: 'baseline'})\n",
    "\n",
    "    data['unplanned'] = results.read_scenario_data(\n",
    "        'socio-economic', 'arc_unplanned', variable, timesteps)[variable]\n",
    "    data['expansion'] = results.read_scenario_data(\n",
    "        'socio-economic', 'arc_expansion', variable, timesteps)[variable]\n",
    "    data['new-cities'] = results.read_scenario_data(\n",
    "        'socio-economic', 'arc_new-cities', variable, timesteps)[variable]\n",
    "    \n",
    "    return data\n",
    "\n",
    "head = get_scenario_data('gva_per_head', [2015, 2030, 2050])\n",
    "head.sample(5)"
   ]
  },
  {
   "cell_type": "code",
   "execution_count": null,
   "metadata": {},
   "outputs": [],
   "source": [
    "gva = get_scenario_data('gva', [2015, 2020, 2030, 2050])\n",
    "gva.sample(5)"
   ]
  },
  {
   "cell_type": "code",
   "execution_count": null,
   "metadata": {},
   "outputs": [],
   "source": [
    "sector = get_scenario_data('gva_per_sector', [2015, 2020, 2030, 2050])\n",
    "sector.tail(5)"
   ]
  },
  {
   "cell_type": "code",
   "execution_count": null,
   "metadata": {},
   "outputs": [],
   "source": [
    "sbn.relplot(data=sector.melt(id_vars=['lad_uk_2016', 'timestep', 'sectors'], \n",
    "                             var_name='scenario').groupby(by=['scenario', 'timestep']).sum().reset_index(), \n",
    "            x='timestep', y='value', \n",
    "            col='scenario', kind='line')"
   ]
  },
  {
   "cell_type": "code",
   "execution_count": null,
   "metadata": {},
   "outputs": [],
   "source": [
    "gva_melted = gva.melt(id_vars=['lad_uk_2016', 'timestep'], var_name='scenario')"
   ]
  },
  {
   "cell_type": "code",
   "execution_count": null,
   "metadata": {},
   "outputs": [],
   "source": [
    "summed = sector.melt(\n",
    "    id_vars=['lad_uk_2016', 'timestep', 'sectors'], \n",
    "    var_name='scenario').groupby(\n",
    "    by=['scenario', 'timestep']).sum().drop(columns='sectors')"
   ]
  },
  {
   "cell_type": "code",
   "execution_count": null,
   "metadata": {},
   "outputs": [],
   "source": [
    "summed"
   ]
  },
  {
   "cell_type": "code",
   "execution_count": null,
   "metadata": {},
   "outputs": [],
   "source": [
    "gva_melted.groupby(by=['scenario', 'timestep']).sum()"
   ]
  },
  {
   "cell_type": "code",
   "execution_count": null,
   "metadata": {},
   "outputs": [],
   "source": []
  },
  {
   "cell_type": "code",
   "execution_count": null,
   "metadata": {},
   "outputs": [],
   "source": []
  }
 ],
 "metadata": {
  "kernelspec": {
   "display_name": "Python 3",
   "language": "python",
   "name": "python3"
  },
  "language_info": {
   "codemirror_mode": {
    "name": "ipython",
    "version": 3
   },
   "file_extension": ".py",
   "mimetype": "text/x-python",
   "name": "python",
   "nbconvert_exporter": "python",
   "pygments_lexer": "ipython3",
   "version": "3.7.1"
  }
 },
 "nbformat": 4,
 "nbformat_minor": 2
}
