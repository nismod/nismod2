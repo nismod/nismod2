{
 "cells": [
  {
   "cell_type": "code",
   "execution_count": null,
   "metadata": {},
   "outputs": [],
   "source": [
    "import os\n",
    "\n",
    "import pandas\n",
    "import geopandas\n",
    "import matplotlib.pyplot as plt\n",
    "\n",
    "plt.rcParams['figure.figsize'] = [10, 10]"
   ]
  },
  {
   "cell_type": "code",
   "execution_count": null,
   "metadata": {},
   "outputs": [],
   "source": [
    "def read_pop(pop_scenario, demand_scenario, timestep):\n",
    "    fname = os.path.join(\n",
    "        '..',\n",
    "        'results',\n",
    "        'arc_wd__{}__{}'.format(pop_scenario, demand_scenario), \n",
    "        'convert_population_lad_to_wrz',\n",
    "        'decision_0',\n",
    "        'output_population_timestep_{}.parquet'.format(timestep))\n",
    "    df = pandas.read_parquet(fname)\n",
    "    df['timestep'] = timestep\n",
    "    df['pop_scenario'] = pop_scenario\n",
    "    df['demand_scenario'] = pop_scenario\n",
    "    df['scenario'] = '{}__{}'.format(pop_scenario, demand_scenario)\n",
    "    return df\n",
    "        \n",
    "dfs = []\n",
    "for pop_scenario in ('baseline', 'expansion', 'unplanned', 'new-cities'):\n",
    "    for demand_scenario in ('FP', 'BL'):\n",
    "        for timestep in range(2020, 2045):\n",
    "            dfs.append(read_pop(pop_scenario, demand_scenario, timestep))\n",
    "pop_df = pandas.concat(dfs)"
   ]
  },
  {
   "cell_type": "code",
   "execution_count": null,
   "metadata": {},
   "outputs": [],
   "source": [
    "def read_file(pop_scenario, demand_scenario, timestep):\n",
    "    fname = os.path.join(\n",
    "        '..',\n",
    "        'results',\n",
    "        'arc_wd__{}__{}'.format(pop_scenario, demand_scenario), \n",
    "        'water_demand',\n",
    "        'decision_0',\n",
    "        'output_water_demand_timestep_{}.parquet'.format(timestep))\n",
    "    df = pandas.read_parquet(fname)\n",
    "    df['timestep'] = timestep\n",
    "    df['pop_scenario'] = pop_scenario\n",
    "    df['demand_scenario'] = pop_scenario\n",
    "    df['scenario'] = '{}__{}'.format(pop_scenario, demand_scenario)\n",
    "    return df\n",
    "        \n",
    "dfs = []\n",
    "for pop_scenario in ('baseline', 'expansion', 'unplanned', 'new-cities'):\n",
    "    for demand_scenario in ('FP', 'BL'):\n",
    "        for timestep in range(2020, 2045):\n",
    "            dfs.append(read_file(pop_scenario, demand_scenario, timestep))\n",
    "df = pandas.concat(dfs)"
   ]
  },
  {
   "cell_type": "code",
   "execution_count": null,
   "metadata": {},
   "outputs": [],
   "source": [
    "df.pivot_table(index=['water_resource_zones', 'timestep'], columns='scenario')"
   ]
  },
  {
   "cell_type": "code",
   "execution_count": null,
   "metadata": {},
   "outputs": [],
   "source": [
    "df.to_csv('arc_water_demand__1.1.0.csv')"
   ]
  },
  {
   "cell_type": "code",
   "execution_count": null,
   "metadata": {},
   "outputs": [],
   "source": [
    "total_df = df.reset_index(drop=True).groupby(['timestep', 'scenario']).sum().reset_index().pivot(index='timestep', columns='scenario')\n",
    "total_df"
   ]
  },
  {
   "cell_type": "code",
   "execution_count": null,
   "metadata": {},
   "outputs": [],
   "source": [
    "total_df.plot()"
   ]
  },
  {
   "cell_type": "code",
   "execution_count": null,
   "metadata": {},
   "outputs": [],
   "source": [
    "total_pop_df = pop_df.reset_index(drop=True).groupby(['timestep', 'scenario']).sum().reset_index().pivot(index='timestep', columns='scenario')\n",
    "total_pop_df"
   ]
  },
  {
   "cell_type": "code",
   "execution_count": null,
   "metadata": {},
   "outputs": [],
   "source": [
    "total_pop_df.plot()"
   ]
  },
  {
   "cell_type": "code",
   "execution_count": null,
   "metadata": {},
   "outputs": [],
   "source": [
    "arc_wrzs = [\n",
    "    'Swindon (SWOX)',\n",
    "    'Ruthamford North',\n",
    "    'Ruthamford South',\n",
    "    'Ruthamford West',\n",
    "    'Ruthamford Central',\n",
    "    'Cambridge',\n",
    "    'Lee',\n",
    "    'South Fenland',\n",
    "]"
   ]
  },
  {
   "cell_type": "code",
   "execution_count": null,
   "metadata": {},
   "outputs": [],
   "source": [
    "df = df.reset_index()\n",
    "df = df[df.water_resource_zones.isin(arc_wrzs)]\n",
    "df.head()"
   ]
  },
  {
   "cell_type": "code",
   "execution_count": null,
   "metadata": {},
   "outputs": [],
   "source": [
    "arc_df = df[['timestep', 'water_demand', 'scenario']].groupby(['timestep','scenario']).sum().reset_index().pivot(index='timestep',columns='scenario')\n",
    "arc_df"
   ]
  },
  {
   "cell_type": "code",
   "execution_count": null,
   "metadata": {},
   "outputs": [],
   "source": [
    "arc_df.plot()"
   ]
  },
  {
   "cell_type": "code",
   "execution_count": null,
   "metadata": {},
   "outputs": [],
   "source": [
    "arc_pop_df = pop_df.reset_index()\n",
    "arc_pop_df = arc_pop_df[arc_pop_df.water_resource_zones.isin(arc_wrzs)]\n",
    "arc_pop_df = arc_pop_df[['timestep', 'population', 'scenario']].groupby(['timestep','scenario']).sum().reset_index().pivot(index='timestep',columns='scenario')\n",
    "arc_pop_df"
   ]
  },
  {
   "cell_type": "code",
   "execution_count": null,
   "metadata": {},
   "outputs": [],
   "source": [
    "arc_pop_df.plot()"
   ]
  },
  {
   "cell_type": "code",
   "execution_count": null,
   "metadata": {},
   "outputs": [],
   "source": [
    "wrz_summary = pandas.read_csv('WRZ_summary_data.csv')"
   ]
  },
  {
   "cell_type": "code",
   "execution_count": null,
   "metadata": {},
   "outputs": [],
   "source": [
    "wrz_summary = wrz_summary[wrz_summary.ea_code.isin(['11FP', '11BL'])]\n",
    "wrz_summary"
   ]
  },
  {
   "cell_type": "code",
   "execution_count": null,
   "metadata": {},
   "outputs": [],
   "source": [
    "wrz__total = wrz_summary[['year', 'value', 'ea_code']].groupby(['year', 'ea_code']).sum().reset_index().pivot(index='year', columns='ea_code')\n",
    "wrz__total"
   ]
  },
  {
   "cell_type": "code",
   "execution_count": null,
   "metadata": {},
   "outputs": [],
   "source": [
    "wrz__total.plot()"
   ]
  }
 ],
 "metadata": {
  "kernelspec": {
   "display_name": "Python 3",
   "language": "python",
   "name": "python3"
  },
  "language_info": {
   "codemirror_mode": {
    "name": "ipython",
    "version": 3
   },
   "file_extension": ".py",
   "mimetype": "text/x-python",
   "name": "python",
   "nbconvert_exporter": "python",
   "pygments_lexer": "ipython3",
   "version": "3.7.3"
  }
 },
 "nbformat": 4,
 "nbformat_minor": 2
}
