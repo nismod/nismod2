{
 "cells": [
  {
   "cell_type": "markdown",
   "metadata": {},
   "source": [
    "# Arc Results"
   ]
  },
  {
   "cell_type": "code",
   "execution_count": null,
   "metadata": {},
   "outputs": [],
   "source": [
    "%matplotlib inline\n",
    "\n",
    "import geopandas as gpd\n",
    "import matplotlib.pyplot as plt\n",
    "import numpy as np\n",
    "import pandas as pd\n",
    "import seaborn as sbn\n",
    "\n",
    "from smif.data_layer import Results\n",
    "\n",
    "results = Results({'interface': 'local_csv', 'dir': '../'})\n",
    "store = results._store\n",
    "\n",
    "sbn.set_context('talk', rc={\"lines.linewidth\": 2.5})\n",
    "sbn.set_palette('Paired')"
   ]
  },
  {
   "cell_type": "code",
   "execution_count": null,
   "metadata": {},
   "outputs": [],
   "source": [
    "lads = gpd.read_file('../data/dimensions/arc_lad_uk16.gpkg')\n",
    "lads.head(1)"
   ]
  },
  {
   "cell_type": "code",
   "execution_count": null,
   "metadata": {},
   "outputs": [],
   "source": [
    "arc_lads = lads[lads.in_arc == 1]"
   ]
  },
  {
   "cell_type": "code",
   "execution_count": null,
   "metadata": {},
   "outputs": [],
   "source": [
    "arc_lads.to_file('../data/dimensions/lad_uk_2016-12/arc_lads.shp')"
   ]
  },
  {
   "cell_type": "code",
   "execution_count": null,
   "metadata": {},
   "outputs": [],
   "source": [
    "arc_lads = arc_lads.drop(columns=['in_arc']).rename(columns={'name': 'lad_uk_2016'})\n",
    "arc_lads.head(2)"
   ]
  },
  {
   "cell_type": "markdown",
   "metadata": {},
   "source": [
    "# View the LADs"
   ]
  },
  {
   "cell_type": "code",
   "execution_count": null,
   "metadata": {},
   "outputs": [],
   "source": [
    "highlight_lads = arc_lads[arc_lads.desc.isin({'Bedford', 'Cambridge', 'Milton Keynes', 'Oxford', 'Cherwell',\n",
    "                     'Aylesbury Vale', 'Central Bedfordshire', 'Huntingdonshire', 'South Cambridgeshire'})]\n",
    "highlight_lads"
   ]
  },
  {
   "cell_type": "code",
   "execution_count": null,
   "metadata": {},
   "outputs": [],
   "source": [
    "def highlight(data, id_col='desc'):\n",
    "    data = data.copy()\n",
    "    \n",
    "    def group_hlads(index):\n",
    "        if index in list(highlight_lads.desc):\n",
    "            return index\n",
    "        else:\n",
    "            return 'Other'\n",
    "    \n",
    "    data['summary_lads'] = data[id_col].apply(group_hlads) \n",
    "    \n",
    "    return data\n",
    "    \n",
    "def plot_lads(arc_lads, label_col):\n",
    "    # Plot the LADs\n",
    "    ax = arc_lads.plot(column=label_col, edgecolor='grey')\n",
    "    \n",
    "    # Add the labels\n",
    "    centroids = [(float(x.x), float(x.y)) for x in list(arc_lads.centroid)]\n",
    "    for label, coord in zip(arc_lads[label_col].values, centroids):\n",
    "        if label != 'Other':\n",
    "            plt.annotate(label, coord, ha='center', va='center',\n",
    "                         color='black', weight='bold')\n",
    "    ax.set_axis_off()\n",
    "    return ax\n",
    "    \n",
    "def plot_highlighted_lads(arc_lads):    \n",
    "    arc_lads = highlight(arc_lads.reset_index())\n",
    "    \n",
    "    return plot_lads(arc_lads, 'summary_lads')"
   ]
  },
  {
   "cell_type": "code",
   "execution_count": null,
   "metadata": {},
   "outputs": [],
   "source": [
    "with sbn.plotting_context('paper'):\n",
    "    sbn.set(rc={'figure.figsize': (11.7, 8.27)})\n",
    "    sbn.set_palette('Paired')\n",
    "    ax = plot_highlighted_lads(arc_lads)\n",
    "    ax.get_figure().savefig(\"lads_highlighted.png\", transparent=True)\n",
    "    \n",
    "with sbn.plotting_context('paper'):\n",
    "    sbn.set(rc={'figure.figsize': (11.7, 8.27)})\n",
    "    sbn.set_palette('Paired')\n",
    "    ax = plot_lads(arc_lads, 'desc')\n",
    "    ax.get_figure().savefig(\"lads_all.png\", transparent=True)"
   ]
  },
  {
   "cell_type": "code",
   "execution_count": null,
   "metadata": {},
   "outputs": [],
   "source": [
    "highlight(arc_lads)"
   ]
  },
  {
   "cell_type": "code",
   "execution_count": null,
   "metadata": {},
   "outputs": [],
   "source": [
    "results.list_model_runs()"
   ]
  },
  {
   "cell_type": "code",
   "execution_count": null,
   "metadata": {},
   "outputs": [],
   "source": [
    "results.available_results('arc_ets__baseline')"
   ]
  },
  {
   "cell_type": "code",
   "execution_count": null,
   "metadata": {},
   "outputs": [],
   "source": [
    "results.list_scenario_outputs('socio-economic')\n",
    "dwellings = results.read_scenario_data(\n",
    "    'socio-economic', 'arc_baseline', 'dwellings', [2015, 2020, 2030, 2050])\n",
    "dwellings.head()"
   ]
  },
  {
   "cell_type": "markdown",
   "metadata": {},
   "source": [
    "# Plotting Arc scenario data\n",
    "\n",
    "The outputs of the socio economic scenarios include:"
   ]
  },
  {
   "cell_type": "code",
   "execution_count": null,
   "metadata": {},
   "outputs": [],
   "source": [
    "results.list_scenario_outputs('socio-economic')"
   ]
  },
  {
   "cell_type": "code",
   "execution_count": null,
   "metadata": {},
   "outputs": [],
   "source": [
    "results.available_results('arc_et__baseline')"
   ]
  },
  {
   "cell_type": "code",
   "execution_count": null,
   "metadata": {},
   "outputs": [],
   "source": [
    "def get_scenario_data(output, arc_lads):\n",
    "    timesteps = [2015, 2020, 2030, 2050]\n",
    "    scenarios = ['arc_baseline', 'arc_unplanned', 'arc_new-cities', 'arc_expansion']\n",
    "    \n",
    "    dfs = []\n",
    "    for scenario in scenarios:\n",
    "        df = results.read_scenario_data(\n",
    "            'socio-economic', \n",
    "            scenario, \n",
    "            output, \n",
    "            timesteps\n",
    "        )\n",
    "        df = df[df.lad_uk_2016.isin(arc_lads.lad_uk_2016)] \n",
    "        df['scenario'] = scenario.replace(\"arc_\", \"\")\n",
    "        \n",
    "        dfs.append(df)        \n",
    "    \n",
    "    data = pd.concat(dfs)     \n",
    "    data = data.merge(arc_lads, how='left', on='lad_uk_2016')\n",
    "    data = gpd.GeoDataFrame(data)\n",
    "    data.crs = arc_lads.crs\n",
    "    \n",
    "    return data"
   ]
  },
  {
   "cell_type": "code",
   "execution_count": null,
   "metadata": {},
   "outputs": [],
   "source": [
    "def plot_total_scenario_data(data, y):\n",
    "    data = data.groupby(\n",
    "        by=['scenario', 'timestep']\n",
    "    ).sum().reset_index()\n",
    "    \n",
    "    return sbn.relplot(\n",
    "        data=data, \n",
    "        x='timestep', \n",
    "        y=y, \n",
    "        hue='scenario', \n",
    "        kind='line'\n",
    "    )\n",
    "    \n",
    "def plot_scenario_data(data, y):      \n",
    "    return sbn.relplot(\n",
    "        data=data, \n",
    "        x='timestep', \n",
    "        y=y, \n",
    "        hue='desc', \n",
    "        col='scenario', \n",
    "        kind='line',\n",
    "        col_wrap=2\n",
    "    )\n",
    "    \n",
    "def plot_scenario_data_highlight(data, y):\n",
    "    data = highlight(data)   \n",
    "    return sbn.relplot(\n",
    "        data=data, \n",
    "        x='timestep', \n",
    "        y=y, \n",
    "        hue='summary_lads', \n",
    "        col='scenario', \n",
    "        kind='line', \n",
    "        col_wrap=2\n",
    "    )\n",
    "\n",
    "def plot_bar_highlight(data, y):\n",
    "    return sbn.catplot(\n",
    "        data=data, \n",
    "        x='timestep', \n",
    "        y=y, \n",
    "        hue='summary_lads', \n",
    "        col='scenario', \n",
    "        kind='bar', \n",
    "        col_wrap=2\n",
    "    )   "
   ]
  },
  {
   "cell_type": "code",
   "execution_count": null,
   "metadata": {},
   "outputs": [],
   "source": [
    "arc_dwellings = get_scenario_data('dwellings', arc_lads)\n",
    "arc_floor = get_scenario_data('floor_area', arc_lads)\n",
    "arc_population = get_scenario_data('population', arc_lads)\n",
    "arc_jobs = get_scenario_data('employment', arc_lads)\n",
    "arc_gva = get_scenario_data('gva', arc_lads)"
   ]
  },
  {
   "cell_type": "markdown",
   "metadata": {},
   "source": [
    "# Population and dwelling density"
   ]
  },
  {
   "cell_type": "code",
   "execution_count": null,
   "metadata": {},
   "outputs": [],
   "source": [
    "arc_dwellings['dwellings_density'] = (arc_dwellings.dwellings / arc_dwellings.area) * 1e3\n",
    "dense_dw = arc_dwellings[arc_dwellings.dwellings_density > 1]\n",
    "fig = plot_scenario_data(dense_dw, 'dwellings_density')\n",
    "fig.savefig(\"dwellings_density.png\")\n",
    "fig"
   ]
  },
  {
   "cell_type": "code",
   "execution_count": null,
   "metadata": {},
   "outputs": [],
   "source": [
    "arc_population['population_density'] = (arc_population.population / arc_population.area) * 1e3\n",
    "dense_pop = arc_population[arc_population.population_density > 2]\n",
    "fig = plot_scenario_data(dense_pop, 'population_density')\n",
    "fig.savefig(\"population_density.png\")\n",
    "fig"
   ]
  },
  {
   "cell_type": "markdown",
   "metadata": {},
   "source": [
    "# Plotting of scenario data"
   ]
  },
  {
   "cell_type": "code",
   "execution_count": null,
   "metadata": {},
   "outputs": [],
   "source": [
    "fig = plot_scenario_data_highlight(arc_dwellings, 'dwellings')\n",
    "fig.savefig(\"dwellings_highlight.png\")\n",
    "fig"
   ]
  },
  {
   "cell_type": "code",
   "execution_count": null,
   "metadata": {},
   "outputs": [],
   "source": [
    "fig = plot_scenario_data_highlight(arc_floor[arc_floor.residential_or_non == 'residential'], 'floor_area')\n",
    "fig.savefig(\"floor_area_highlight.png\")\n",
    "fig"
   ]
  },
  {
   "cell_type": "code",
   "execution_count": null,
   "metadata": {},
   "outputs": [],
   "source": [
    "fig = plot_scenario_data_highlight(arc_floor[arc_floor.residential_or_non == 'non_residential'], 'floor_area')\n",
    "fig.savefig(\"floor_area_nr_highlight.png\")\n",
    "fig"
   ]
  },
  {
   "cell_type": "code",
   "execution_count": null,
   "metadata": {},
   "outputs": [],
   "source": [
    "fig = plot_bar_highlight(arc_dwellings, 'dwellings')\n",
    "fig.savefig(\"dwellings_bar.png\")\n",
    "fig"
   ]
  },
  {
   "cell_type": "code",
   "execution_count": null,
   "metadata": {},
   "outputs": [],
   "source": [
    "fig = plot_total_scenario_data(arc_dwellings, 'dwellings')\n",
    "fig.savefig(\"dwellings_total.png\")\n",
    "fig"
   ]
  },
  {
   "cell_type": "code",
   "execution_count": null,
   "metadata": {},
   "outputs": [],
   "source": [
    "fig = plot_scenario_data_highlight(arc_population, 'population')\n",
    "fig.savefig(\"population_highlight.png\")\n",
    "fig"
   ]
  },
  {
   "cell_type": "code",
   "execution_count": null,
   "metadata": {},
   "outputs": [],
   "source": [
    "fig = plot_total_scenario_data(arc_population, 'population')\n",
    "fig.savefig(\"population_total.png\")\n",
    "fig"
   ]
  },
  {
   "cell_type": "code",
   "execution_count": null,
   "metadata": {},
   "outputs": [],
   "source": [
    "fig = plot_scenario_data_highlight(arc_gva, 'gva')\n",
    "fig.savefig(\"gva_highlight.png\")\n",
    "fig"
   ]
  },
  {
   "cell_type": "code",
   "execution_count": null,
   "metadata": {},
   "outputs": [],
   "source": [
    "fig = plot_total_scenario_data(arc_gva, 'gva')\n",
    "fig.savefig(\"gva_total.png\")\n",
    "fig"
   ]
  },
  {
   "cell_type": "code",
   "execution_count": null,
   "metadata": {},
   "outputs": [],
   "source": [
    "fig = plot_total_scenario_data(arc_jobs, 'employment')\n",
    "fig.savefig(\"employment_total.png\")\n",
    "fig"
   ]
  },
  {
   "cell_type": "code",
   "execution_count": null,
   "metadata": {},
   "outputs": [],
   "source": [
    "fig = plot_scenario_data_highlight(arc_jobs, 'employment')\n",
    "sbn.plt.title('Employment')\n",
    "fig.savefig(\"employment_highlight.png\")\n",
    "fig"
   ]
  },
  {
   "cell_type": "markdown",
   "metadata": {},
   "source": [
    "# Plot difference spatially"
   ]
  },
  {
   "cell_type": "code",
   "execution_count": null,
   "metadata": {},
   "outputs": [],
   "source": [
    "sbn.choose_diverging_palette()"
   ]
  },
  {
   "cell_type": "code",
   "execution_count": null,
   "metadata": {},
   "outputs": [],
   "source": [
    "def plot_difference_spatially(df, variable, log_values=False):\n",
    "    df = df.copy()\n",
    "    # pull out baseline values\n",
    "    df_base = df[df.scenario == 'baseline'] \\\n",
    "        [['timestep', 'lad_uk_2016', variable]] \\\n",
    "        .rename(columns={variable: 'base'})\n",
    "    # filter to drop baseline and base year\n",
    "    df = df[(df.scenario != 'baseline') & (df.timestep > 2015)]\n",
    "    # merge base baseline values to calculate diff\n",
    "    diff_key = 'diff_{}'.format(variable)\n",
    "    df = df.merge(df_base, how='left', validate='many_to_one', on=['timestep', 'lad_uk_2016'])\n",
    "    if log_values:\n",
    "        df[diff_key] = np.log(df[variable]) - np.log(df.base)\n",
    "    else:\n",
    "        df[diff_key] = df[variable] - df.base\n",
    "    \n",
    "    # set up colours\n",
    "    cmap = sbn.diverging_palette(\n",
    "        h_neg=256, \n",
    "        h_pos=12, \n",
    "        s=85, \n",
    "        l=57, \n",
    "        sep=1, \n",
    "        n=7, \n",
    "        as_cmap=True\n",
    "    )\n",
    "    vmax = df[diff_key].abs().max()\n",
    "\n",
    "    def plot_diff_map(data, *args, **kwargs):\n",
    "        cax = plt.gca()\n",
    "        ax = data.plot(\n",
    "            column=diff_key, \n",
    "            ax=cax, \n",
    "            cmap=cmap, \n",
    "            vmin=-vmax, \n",
    "            vmax=vmax\n",
    "        )\n",
    "        ax.set_axis_off()\n",
    "        return ax\n",
    "\n",
    "    with sbn.plotting_context('paper'):\n",
    "        g = sbn.FacetGrid(\n",
    "            data=df, \n",
    "            row='scenario', \n",
    "            col='timestep', \n",
    "            height=4, \n",
    "            sharex=True, \n",
    "            sharey=True\n",
    "        )\n",
    "        g.map_dataframe(plot_diff_map)\n",
    "\n",
    "    return g"
   ]
  },
  {
   "cell_type": "code",
   "execution_count": null,
   "metadata": {},
   "outputs": [],
   "source": [
    "fig = plot_difference_spatially(arc_dwellings, 'dwellings')\n",
    "fig.savefig(\"dwellings_difference.png\")\n",
    "fig"
   ]
  },
  {
   "cell_type": "code",
   "execution_count": null,
   "metadata": {},
   "outputs": [],
   "source": [
    "fig = plot_difference_spatially(arc_population, 'population')\n",
    "fig.savefig('population_difference.png')\n",
    "fig"
   ]
  },
  {
   "cell_type": "code",
   "execution_count": null,
   "metadata": {},
   "outputs": [],
   "source": [
    "fig = plot_difference_spatially(arc_jobs, 'employment')\n",
    "fig.savefig('employment_difference.png')\n",
    "fig"
   ]
  },
  {
   "cell_type": "code",
   "execution_count": null,
   "metadata": {},
   "outputs": [],
   "source": [
    "fig = plot_difference_spatially(arc_gva, 'gva')\n",
    "fig.savefig('gva_difference.png')\n",
    "fig"
   ]
  },
  {
   "cell_type": "markdown",
   "metadata": {},
   "source": [
    "# Baseline Results"
   ]
  },
  {
   "cell_type": "code",
   "execution_count": null,
   "metadata": {},
   "outputs": [],
   "source": [
    "results.available_results('arc_ets__baseline')"
   ]
  },
  {
   "cell_type": "code",
   "execution_count": null,
   "metadata": {},
   "outputs": [],
   "source": [
    "results.list_sector_models('arc_ets__baseline')"
   ]
  },
  {
   "cell_type": "code",
   "execution_count": null,
   "metadata": {},
   "outputs": [],
   "source": [
    "results.list_outputs('aggregate_energy_constrained')"
   ]
  },
  {
   "cell_type": "code",
   "execution_count": null,
   "metadata": {},
   "outputs": [],
   "source": [
    "model_run_names = ['arc_ets__baseline', 'arc_ets__expansion']\n",
    "model_names = ['aggregate_energy_constrained']\n",
    "output_names = ['elecload']\n",
    "timesteps=[2015, 2030, 2050]\n",
    "elecload = arc_lads.join(\n",
    "    results.read_results(\n",
    "        model_run_names, model_names, output_names, timesteps).set_index('lad_uk_2016').drop(columns=['decision']))"
   ]
  },
  {
   "cell_type": "code",
   "execution_count": null,
   "metadata": {},
   "outputs": [],
   "source": [
    "arc_elecload = elecload.reset_index().melt(\n",
    "    id_vars=['index', 'geo_label', 'geometry', 'gid', 'timestep', 'hourly', 'model_run'], \n",
    "    value_vars='elecload')"
   ]
  },
  {
   "cell_type": "code",
   "execution_count": null,
   "metadata": {},
   "outputs": [],
   "source": [
    "arc_elecload.head()"
   ]
  },
  {
   "cell_type": "code",
   "execution_count": null,
   "metadata": {},
   "outputs": [],
   "source": [
    "data = arc_elecload.drop(columns=['geometry', 'gid'])\n",
    "data = data.groupby(by=['model_run', 'timestep', 'hourly']).sum().reset_index()\n",
    "\n",
    "sbn.relplot(x='hourly', y='value', row='model_run', col='timestep', data=data, kind='line')"
   ]
  },
  {
   "cell_type": "markdown",
   "metadata": {},
   "source": [
    "# Visualise sos as a graph"
   ]
  },
  {
   "cell_type": "code",
   "execution_count": null,
   "metadata": {},
   "outputs": [],
   "source": [
    "import networkx as nx"
   ]
  },
  {
   "cell_type": "code",
   "execution_count": null,
   "metadata": {},
   "outputs": [],
   "source": [
    "def visualise_sos(store, model_run):\n",
    "    \"\"\"Write out a graphml file showing directed links between scenarios, models and adaptors\n",
    "    \"\"\"\n",
    "    config = store.read_model_run(model_run)\n",
    "    sos = store.read_sos_model(config['sos_model'])\n",
    "    models = sos['sector_models']\n",
    "    scenarios = sos['scenarios']\n",
    "    nodes = models + scenarios\n",
    "    G = nx.DiGraph(model_run='arc_ets__expansion', sos_model=sos['name'])\n",
    "    for x in nodes:\n",
    "        G.add_node(x, name=x) \n",
    "    for dep in sos['model_dependencies'] + sos['scenario_dependencies']:\n",
    "        G.add_edge(dep['source'], dep['sink'])\n",
    "    nx.write_graphml_lxml(G, \"{}.graphml\".format(model_run))"
   ]
  },
  {
   "cell_type": "code",
   "execution_count": null,
   "metadata": {},
   "outputs": [],
   "source": [
    "store = results._store\n",
    "model_run = 'arc_et__expansion'\n",
    "visualise_sos(store, model_run)"
   ]
  },
  {
   "cell_type": "markdown",
   "metadata": {},
   "source": [
    "# Debugging expansion scenario"
   ]
  },
  {
   "cell_type": "code",
   "execution_count": null,
   "metadata": {},
   "outputs": [],
   "source": [
    "model_run = ['arc_ets__expansion']\n",
    "model_names = ['energy_demand_constrained']\n",
    "output_names = ['industry_gas_boiler_gas']\n",
    "results.available_results(model_run[0])['sector_models'][model_names[0]]['outputs'].keys()"
   ]
  },
  {
   "cell_type": "code",
   "execution_count": null,
   "metadata": {},
   "outputs": [],
   "source": [
    "data = results.read_results(model_run, model_names, output_names)"
   ]
  },
  {
   "cell_type": "code",
   "execution_count": null,
   "metadata": {},
   "outputs": [],
   "source": [
    "# Show all entries where there is missing data\n",
    "data[data['industry_gas_boiler_gas'].isnull()==True]"
   ]
  },
  {
   "cell_type": "markdown",
   "metadata": {},
   "source": [
    "# Investigate GVA sectoral and total "
   ]
  },
  {
   "cell_type": "code",
   "execution_count": null,
   "metadata": {},
   "outputs": [],
   "source": [
    "def get_scenario_data(variable, timesteps):\n",
    "    data = results.read_scenario_data('socio-economic', 'arc_baseline', variable, timesteps).rename(\n",
    "        columns={variable: 'baseline'})\n",
    "\n",
    "    data['unplanned'] = results.read_scenario_data(\n",
    "        'socio-economic', 'arc_unplanned', variable, timesteps)[variable]\n",
    "    data['expansion'] = results.read_scenario_data(\n",
    "        'socio-economic', 'arc_expansion', variable, timesteps)[variable]\n",
    "    data['new-cities'] = results.read_scenario_data(\n",
    "        'socio-economic', 'arc_new-cities', variable, timesteps)[variable]\n",
    "    \n",
    "    return data\n",
    "\n",
    "head = get_scenario_data('gva_per_head', [2015, 2030, 2050])\n",
    "head.sample(5)"
   ]
  },
  {
   "cell_type": "code",
   "execution_count": null,
   "metadata": {},
   "outputs": [],
   "source": [
    "gva = get_scenario_data('gva', [2015, 2020, 2030, 2050])\n",
    "gva.sample(5)"
   ]
  },
  {
   "cell_type": "code",
   "execution_count": null,
   "metadata": {},
   "outputs": [],
   "source": [
    "sector = get_scenario_data('gva_per_sector', [2015, 2020, 2030, 2050])"
   ]
  },
  {
   "cell_type": "code",
   "execution_count": null,
   "metadata": {},
   "outputs": [],
   "source": [
    "sbn.relplot(data=sector.melt(id_vars=['lad_uk_2016', 'timestep', 'sectors'], \n",
    "                             var_name='scenario').groupby(by=['scenario', 'timestep']).sum().reset_index(), \n",
    "            x='timestep', y='value', \n",
    "            col='scenario', kind='line')"
   ]
  },
  {
   "cell_type": "code",
   "execution_count": null,
   "metadata": {},
   "outputs": [],
   "source": [
    "gva_melted = gva.melt(id_vars=['lad_uk_2016', 'timestep'], var_name='scenario')"
   ]
  },
  {
   "cell_type": "code",
   "execution_count": null,
   "metadata": {},
   "outputs": [],
   "source": [
    "summed = sector.melt(\n",
    "    id_vars=['lad_uk_2016', 'timestep', 'sectors'], \n",
    "    var_name='scenario').groupby(\n",
    "    by=['scenario', 'timestep']).sum().drop(columns='sectors')"
   ]
  },
  {
   "cell_type": "code",
   "execution_count": null,
   "metadata": {},
   "outputs": [],
   "source": [
    "df = sector.melt(\n",
    "    id_vars=['lad_uk_2016', 'timestep', 'sectors'], \n",
    "    var_name='scenario')\n",
    "df[df['value'] == 0]"
   ]
  },
  {
   "cell_type": "code",
   "execution_count": null,
   "metadata": {},
   "outputs": [],
   "source": [
    "gva_melted.groupby(by=['scenario', 'timestep']).sum()"
   ]
  },
  {
   "cell_type": "markdown",
   "metadata": {},
   "source": [
    "# Results: Total emissions"
   ]
  },
  {
   "cell_type": "code",
   "execution_count": null,
   "metadata": {},
   "outputs": [],
   "source": [
    "model_run_names = ['arc_ets__baseline']\n",
    "model_names = ['energy_supply_constrained']\n",
    "output_name = 'e_emissions_eh'\n",
    "timesteps=[2015, 2020, 2030, 2050]\n",
    "\n",
    "def get_total_results(model_run_names, model_names, output_name, timesteps):\n",
    "    es_res = results.read_results(\n",
    "            model_run_names, model_names, [output_name], timesteps)\n",
    "    agg_results = es_res.drop(\n",
    "        columns='decision').groupby(\n",
    "        by=['model_run', 'timestep']).sum().reset_index()\n",
    "    return agg_results[['model_run', 'timestep', output_name]].set_index(['model_run', 'timestep'])\n",
    "    \n",
    "e_emissions_eh = get_total_results(model_run_names, model_names, 'e_emissions_eh', timesteps)\n",
    "e_emissions_bb = get_total_results(model_run_names, model_names, 'e_emissions', timesteps)\n",
    "h_emissions_eh = get_total_results(model_run_names, model_names, 'h_emissions_eh', timesteps)\n",
    "\n",
    "# fig = sbn.relplot(data=emissions_eh, row='model_run', x='timestep', y=output_name, kind='line')\n"
   ]
  },
  {
   "cell_type": "code",
   "execution_count": null,
   "metadata": {},
   "outputs": [],
   "source": [
    "emissions = emissions_bb.join(emissions_eh).join(h_emissions_eh)\n",
    "emissions['total'] = emissions['e_emissions'] + emissions['e_emissions_eh'] + emissions['h_emissions_eh']\n",
    "data = emissions.reset_index().melt(id_vars=['model_run', 'timestep'])\n",
    "fig = sbn.catplot(data=data, hue='variable', x='timestep', col='model_run', y='value', kind='bar')\n",
    "fig.set_axis_labels('year', 'emissions (kgCO2)')"
   ]
  },
  {
   "cell_type": "code",
   "execution_count": null,
   "metadata": {},
   "outputs": [],
   "source": [
    "results.list_outputs('energy_supply_constrained')"
   ]
  },
  {
   "cell_type": "code",
   "execution_count": null,
   "metadata": {},
   "outputs": [],
   "source": [
    "import geopandas as gpd\n",
    "\n",
    "def plot(df, spatial_dimension_name, output_name):\n",
    "\n",
    "    spatial_dimension = store.read_dimension(spatial_dimension_name)['elements']\n",
    "    spatial_dimension_features = [x['feature'] for x in spatial_dimension]\n",
    "\n",
    "    spatial_df = gpd.GeoDataFrame.from_features(spatial_dimension_features)\n",
    "\n",
    "    b = spatial_df.merge(df, left_on='name', right_on=spatial_dimension_name)\n",
    "\n",
    "    b.plot(column=output_name)"
   ]
  },
  {
   "cell_type": "code",
   "execution_count": null,
   "metadata": {},
   "outputs": [],
   "source": [
    "plot(elecload, 'energy_hub', 'e_emissions_eh')"
   ]
  },
  {
   "cell_type": "code",
   "execution_count": null,
   "metadata": {},
   "outputs": [],
   "source": [
    "spatial_dimension = store.read_dimension('bus_bars')['elements']\n"
   ]
  },
  {
   "cell_type": "code",
   "execution_count": null,
   "metadata": {},
   "outputs": [],
   "source": [
    "spatial_dimension_features = [x['feature'] for x in spatial_dimension]"
   ]
  },
  {
   "cell_type": "code",
   "execution_count": null,
   "metadata": {},
   "outputs": [],
   "source": [
    "gpd.GeoDataFrame.from_features(spatial_dimension_features)"
   ]
  },
  {
   "cell_type": "code",
   "execution_count": null,
   "metadata": {},
   "outputs": [],
   "source": [
    "spatial_df = gpd.GeoDataFrame.from_features(spatial_dimension_features)\n",
    "\n",
    "b = spatial_df.merge(elecload, left_on='name', right_on='bus_bars')"
   ]
  },
  {
   "cell_type": "code",
   "execution_count": null,
   "metadata": {},
   "outputs": [],
   "source": [
    "ax = b.plot(column='e_emissions')\n",
    "arc_lads.plot(ax=ax, alpha=0.3)\n",
    "ax.set_axis_off()"
   ]
  },
  {
   "cell_type": "code",
   "execution_count": null,
   "metadata": {},
   "outputs": [],
   "source": []
  },
  {
   "cell_type": "markdown",
   "metadata": {},
   "source": [
    "# Digital comms results"
   ]
  },
  {
   "cell_type": "code",
   "execution_count": null,
   "metadata": {},
   "outputs": [],
   "source": [
    "import pandas as pd"
   ]
  },
  {
   "cell_type": "code",
   "execution_count": null,
   "metadata": {},
   "outputs": [],
   "source": [
    "pd.DataFrame.from_csv('aggregate_scenario_metrics.csv')"
   ]
  },
  {
   "cell_type": "code",
   "execution_count": null,
   "metadata": {},
   "outputs": [],
   "source": []
  },
  {
   "cell_type": "markdown",
   "metadata": {},
   "source": [
    "# Transport for energy results"
   ]
  },
  {
   "cell_type": "code",
   "execution_count": null,
   "metadata": {},
   "outputs": [],
   "source": [
    "results.available_results('arc_etmod-only__baseline')"
   ]
  },
  {
   "cell_type": "code",
   "execution_count": null,
   "metadata": {},
   "outputs": [],
   "source": [
    "model_run_names = ['arc_etmod-only__baseline', 'arc_etmod-only__new-cities', 'arc_etmod-only__expansion']\n",
    "model_names = ['et_module']\n",
    "output_name = 'v2g_g2v_capacity'\n",
    "timesteps=[2015, 2030, 2050]\n",
    "\n",
    "df = get_total_results(model_run_names, model_names, output_name, timesteps)\n",
    "df"
   ]
  },
  {
   "cell_type": "code",
   "execution_count": null,
   "metadata": {},
   "outputs": [],
   "source": [
    "data = df.reset_index().melt(id_vars=['model_run', 'timestep'])\n",
    "fig = sbn.catplot(data=data, hue='variable', x='timestep', col='model_run', y='value', kind='bar')"
   ]
  },
  {
   "cell_type": "code",
   "execution_count": null,
   "metadata": {},
   "outputs": [],
   "source": [
    "data"
   ]
  },
  {
   "cell_type": "code",
   "execution_count": null,
   "metadata": {},
   "outputs": [],
   "source": [
    "sbn.relplot(x='timestep', y='value', hue='model_run', data=data, kind='line')"
   ]
  },
  {
   "cell_type": "code",
   "execution_count": null,
   "metadata": {},
   "outputs": [],
   "source": [
    "import pandas"
   ]
  },
  {
   "cell_type": "code",
   "execution_count": null,
   "metadata": {},
   "outputs": [],
   "source": [
    "results.list_scenario_outputs('ev_transport_trips')\n",
    "# ['electric_vehicle_electricity_consumption', 'electric_vehicle_trip_starts']\n",
    "scenarios = ['arc_baseline', 'arc_new-cities', 'arc_expansion']\n",
    "dfs = []\n",
    "for s in scenarios:\n",
    "    trips = results.read_scenario_data(\n",
    "        'ev_transport_trips', s, 'electric_vehicle_electricity_consumption', [2015, 2030, 2050])\n",
    "    trips['scenario'] = s\n",
    "    dfs.append(trips)\n",
    "\n",
    "trips = pandas.concat(dfs, axis=0)\n",
    "trips.head()"
   ]
  },
  {
   "cell_type": "code",
   "execution_count": null,
   "metadata": {},
   "outputs": [],
   "source": [
    "trips.tail()"
   ]
  },
  {
   "cell_type": "code",
   "execution_count": null,
   "metadata": {},
   "outputs": [],
   "source": [
    "trips.annual_day_hours.unique()"
   ]
  },
  {
   "cell_type": "code",
   "execution_count": null,
   "metadata": {},
   "outputs": [],
   "source": [
    "lu = {\n",
    " 'MIDNIGHT': 0,\n",
    " 'ONEAM': 1,\n",
    " 'TWOAM': 2,\n",
    " 'THREEAM': 3,\n",
    " 'FOURAM': 4,\n",
    " 'FIVEAM': 5,\n",
    " 'SIXAM': 6,\n",
    " 'SEVENAM': 7,\n",
    " 'EIGHTAM': 8,\n",
    " 'NINEAM': 9,\n",
    " 'TENAM': 10,\n",
    " 'ELEVENAM': 11,\n",
    " 'NOON': 12,\n",
    " 'ONEPM': 13,\n",
    " 'TWOPM': 14,\n",
    " 'THREEPM': 15,\n",
    " 'FOURPM': 16,\n",
    " 'FIVEPM': 17,\n",
    " 'SIXPM': 18,\n",
    " 'SEVENPM': 19,\n",
    " 'EIGHTPM': 20,\n",
    " 'NINEPM': 21,\n",
    " 'TENPM': 22,\n",
    " 'ELEVENPM': 23\n",
    "}"
   ]
  },
  {
   "cell_type": "code",
   "execution_count": null,
   "metadata": {},
   "outputs": [],
   "source": [
    "trips['hour'] = trips.annual_day_hours.apply(lambda h: lu[h])"
   ]
  },
  {
   "cell_type": "code",
   "execution_count": null,
   "metadata": {},
   "outputs": [],
   "source": [
    "lad_codes = list(arc_lads.reset_index().geo_code)\n",
    "trips_arc = trips[trips.lad_gb_2016.isin(lad_codes)]\n",
    "trips_arc"
   ]
  },
  {
   "cell_type": "code",
   "execution_count": null,
   "metadata": {},
   "outputs": [],
   "source": [
    "trips_total = trips_arc.groupby(\n",
    "    ['timestep', 'annual_day_hours', 'hour', 'scenario']\n",
    ").sum().reset_index().sort_values(\n",
    "    ['scenario', 'timestep','hour']\n",
    ")\n",
    "trips_total"
   ]
  },
  {
   "cell_type": "code",
   "execution_count": null,
   "metadata": {},
   "outputs": [],
   "source": [
    "sbn.relplot(\n",
    "    x='hour', y='electric_vehicle_electricity_consumption', \n",
    "    hue='scenario',\n",
    "    col='timestep',\n",
    "    kind='line',\n",
    "    estimator=None,\n",
    "    data=trips_total)"
   ]
  },
  {
   "cell_type": "code",
   "execution_count": null,
   "metadata": {},
   "outputs": [],
   "source": [
    "trips_by_lad = trips_arc.groupby(\n",
    "    ['timestep', 'lad_gb_2016', 'scenario']\n",
    ").sum()['electric_vehicle_electricity_consumption'].reset_index()\n",
    "trips_by_lad"
   ]
  },
  {
   "cell_type": "code",
   "execution_count": null,
   "metadata": {},
   "outputs": [],
   "source": [
    "# facet map plot\n",
    "\n",
    "# melted_dwellings = reshape(df).drop(columns='geometry')\n",
    "\n",
    "# def log(series):\n",
    "#     return series.apply(lambda x: np.log(x))\n",
    "\n",
    "# melted_dwellings['norm_value'] = log(melted_dwellings['value'])\n",
    "\n",
    "baseline = trips_by_lad[trips_by_lad['scenario']=='arc_baseline'].drop(columns='scenario')\n",
    "non_baseline = trips_by_lad[~(trips_by_lad['scenario']=='arc_baseline')]\n",
    "\n",
    "diff = non_baseline.set_index(['scenario', 'lad_gb_2016', 'timestep']).sub(\n",
    "            baseline.set_index(['lad_gb_2016', 'timestep'])).reset_index()\n",
    "#diff = highlight(diff)  \n",
    "diff"
   ]
  },
  {
   "cell_type": "code",
   "execution_count": null,
   "metadata": {},
   "outputs": [],
   "source": [
    "diff_spatial = arc_lads.reset_index().set_index('geo_code').join(\n",
    "                   diff.rename(columns={'lad_gb_2016':'geo_code'}).set_index('geo_code'), rsuffix='bla')\n",
    "diff_spatial"
   ]
  },
  {
   "cell_type": "code",
   "execution_count": null,
   "metadata": {},
   "outputs": [],
   "source": [
    "colname = 'electric_vehicle_electricity_consumption'\n",
    "cmap = sbn.diverging_palette(h_neg=220, h_pos=10, s=74, l=50, sep=10, n=9, as_cmap=True)\n",
    "\n",
    "def plot_diff_map(data, *args, **kwargs):\n",
    "    cax = plt.gca()\n",
    "    ax = data.plot(column=colname, ax=cax, cmap=cmap, \n",
    "                   vmin=-diff_spatial[colname].max(), vmax=diff_spatial[colname].max())\n",
    "    ax.set_axis_off()\n",
    "    return ax\n",
    "\n",
    "# Remove baseline (no difference across scenarios)\n",
    "diff_spatial = diff_spatial[~(diff_spatial['timestep'] == 2015)]\n",
    "\n",
    "with sbn.plotting_context('paper'):\n",
    "    g = sbn.FacetGrid(data=diff_spatial, row='scenario', col='timestep', \n",
    "                      height=4, sharex=True, sharey=True)\n",
    "    g.map_dataframe(plot_diff_map)\n"
   ]
  }
 ],
 "metadata": {
  "kernelspec": {
   "display_name": "Python 3",
   "language": "python",
   "name": "python3"
  },
  "language_info": {
   "codemirror_mode": {
    "name": "ipython",
    "version": 3
   },
   "file_extension": ".py",
   "mimetype": "text/x-python",
   "name": "python",
   "nbconvert_exporter": "python",
   "pygments_lexer": "ipython3",
   "version": "3.7.3"
  }
 },
 "nbformat": 4,
 "nbformat_minor": 2
}
