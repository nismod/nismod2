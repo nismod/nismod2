{
 "cells": [
  {
   "cell_type": "code",
   "execution_count": null,
   "metadata": {},
   "outputs": [],
   "source": [
    "%matplotlib inline\n",
    "from arc_maps import get_data\n",
    "from smif.data_layer import Results\n",
    "import seaborn as sbn\n",
    "import matplotlib.pyplot as plt\n",
    "import numpy as np\n",
    "results = Results({'interface': 'local_csv', 'dir': '../'})\n",
    "\n",
    "sbn.set_context('talk', font_scale=0.8, rc={\"lines.linewidth\": 2.5})\n",
    "sbn.set_palette('Paired')"
   ]
  },
  {
   "cell_type": "code",
   "execution_count": null,
   "metadata": {},
   "outputs": [],
   "source": [
    "filepath = '../credential.ini'\n",
    "arc_lads = get_data.get_lads(filepath)"
   ]
  },
  {
   "cell_type": "markdown",
   "metadata": {},
   "source": [
    "# Total transmission-connected generation"
   ]
  },
  {
   "cell_type": "code",
   "execution_count": null,
   "metadata": {},
   "outputs": [],
   "source": [
    "elec_outputs = [x for x in results.list_outputs('energy_supply_constrained') if x.startswith('tran_') and not '_curtailed' in x]\n",
    "elec_outputs"
   ]
  },
  {
   "cell_type": "code",
   "execution_count": null,
   "metadata": {},
   "outputs": [],
   "source": [
    "model_run_names = ['arc_ets__baseline', 'arc_ets__new-cities', 'arc_ets__expansion']\n",
    "model_names = ['energy_supply_constrained']\n",
    "timesteps=[2015, 2030, 2050]\n",
    "\n",
    "df = results.read_results(\n",
    "        model_run_names, model_names, elec_outputs, timesteps).drop(\n",
    "    columns=['decision'])\n",
    "df = df.melt(id_vars=['model_run', 'timestep', 'bus_bars', 'seasonal_week'])\n",
    "df['model_run'] = df['model_run'].str.replace('arc_ets__', '')\n",
    "data = df.groupby(\n",
    "    by=['model_run', 'timestep', 'seasonal_week', 'variable']).sum().drop(\n",
    "    columns='bus_bars').reset_index()\n",
    "data.head()"
   ]
  },
  {
   "cell_type": "code",
   "execution_count": null,
   "metadata": {},
   "outputs": [],
   "source": [
    "filtered = data[data['seasonal_week'].isin(range(0,25))]\n",
    "fig = sbn.relplot(data=filtered, x='seasonal_week', y='value', col='model_run', row='timestep', \n",
    "            kind='line', hue='variable')\n",
    "fig.savefig('generation_mix.png', transparent=True)"
   ]
  },
  {
   "cell_type": "code",
   "execution_count": null,
   "metadata": {},
   "outputs": [],
   "source": [
    "mapping = {'tran_coal': 'fossil',\n",
    "           'tran_gas_fired': 'fossil',\n",
    "           'tran_hydro': 'renewable',\n",
    "           'tran_interconnector': 'fossil',\n",
    "           'tran_nuclear': 'nuclear',\n",
    "           'tran_pump_power': 'renewable',\n",
    "           'tran_pv_power': 'renewable',\n",
    "           'tran_renewable': 'renewable',\n",
    "           'tran_wind_offshore': 'renewable',\n",
    "           'tran_wind_onshore': 'renewable'}\n",
    "\n",
    "filtered = data[data['seasonal_week'].isin(range(0, 169))]\n",
    "filtered['type'] = filtered['variable'].apply(lambda x: mapping[x])\n",
    "filtered = filtered.groupby(by=['model_run', 'timestep', 'seasonal_week', 'type']).sum()\n",
    "fig = sbn.relplot(data=filtered.reset_index(), x='seasonal_week', y='value', row='model_run', col='timestep', \n",
    "            kind='line', hue='type')\n",
    "fig.savefig('es_summary_gen_mix.png', transparent=True)"
   ]
  },
  {
   "cell_type": "markdown",
   "metadata": {},
   "source": [
    "# Results: Total emissions"
   ]
  },
  {
   "cell_type": "code",
   "execution_count": null,
   "metadata": {},
   "outputs": [],
   "source": [
    "def get_total_results(model_run_names, model_names, output_name, timesteps):\n",
    "    es_res = results.read_results(\n",
    "            model_run_names, model_names, [output_name], timesteps)\n",
    "    agg_results = es_res.drop(\n",
    "        columns='decision').groupby(\n",
    "        by=['model_run', 'timestep']).sum().reset_index()\n",
    "    return agg_results[['model_run', 'timestep', output_name]].set_index(['model_run', 'timestep'])\n",
    "\n",
    "model_names = ['energy_supply_constrained']\n",
    "output_name = 'e_emissions_eh'\n",
    "timesteps=[2015, 2030, 2050]\n",
    "    \n",
    "e_emissions_eh = get_total_results(model_run_names, model_names, 'e_emissions_eh', timesteps)\n",
    "e_emissions_bb = get_total_results(model_run_names, model_names, 'e_emissions', timesteps)\n",
    "h_emissions_eh = get_total_results(model_run_names, model_names, 'h_emissions_eh', timesteps)\n",
    "\n",
    "# fig = sbn.relplot(data=emissions_eh, row='model_run', x='timestep', y=output_name, kind='line')\n"
   ]
  },
  {
   "cell_type": "code",
   "execution_count": null,
   "metadata": {},
   "outputs": [],
   "source": [
    "emissions = e_emissions_bb.join(e_emissions_eh).join(h_emissions_eh)\n",
    "emissions['total'] = emissions['e_emissions'] + emissions['e_emissions_eh'] + emissions['h_emissions_eh']\n",
    "data = emissions.reset_index().melt(id_vars=['model_run', 'timestep'])\n",
    "data['model_run'] = data['model_run'].str.replace('arc_ets__', '')\n",
    "fig = sbn.relplot(data=data[data['variable'] == 'total'], x='timestep', hue='model_run', y='value', kind='line')\n",
    "fig.set_axis_labels('year', 'emissions (tCO2)')\n",
    "fig.savefig('total_emissions.png', transparent=True)"
   ]
  },
  {
   "cell_type": "markdown",
   "metadata": {},
   "source": [
    "# Results: operational cost"
   ]
  },
  {
   "cell_type": "code",
   "execution_count": null,
   "metadata": {},
   "outputs": [],
   "source": [
    "output_name = 'total_opt_cost'\n",
    "    \n",
    "cost = get_total_results(model_run_names, model_names, output_name, timesteps)\n",
    "fig = sbn.catplot(data=cost.reset_index(), x='timestep', col='model_run', y=output_name, kind='bar')\n",
    "fig.set_axis_labels('year', 'operational cost (£M)')"
   ]
  },
  {
   "cell_type": "markdown",
   "metadata": {},
   "source": [
    "# Total distributed generation"
   ]
  },
  {
   "cell_type": "code",
   "execution_count": null,
   "metadata": {},
   "outputs": [],
   "source": [
    "elec_outputs = [x for x in results.list_outputs('energy_supply_constrained') if x.startswith('eh_') ]\n",
    "elec_outputs"
   ]
  },
  {
   "cell_type": "code",
   "execution_count": null,
   "metadata": {},
   "outputs": [],
   "source": []
  }
 ],
 "metadata": {
  "kernelspec": {
   "display_name": "Python 3",
   "language": "python",
   "name": "python3"
  },
  "language_info": {
   "codemirror_mode": {
    "name": "ipython",
    "version": 3
   },
   "file_extension": ".py",
   "mimetype": "text/x-python",
   "name": "python",
   "nbconvert_exporter": "python",
   "pygments_lexer": "ipython3",
   "version": "3.7.1"
  }
 },
 "nbformat": 4,
 "nbformat_minor": 2
}
