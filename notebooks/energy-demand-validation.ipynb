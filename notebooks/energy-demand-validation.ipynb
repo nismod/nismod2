{
 "cells": [
  {
   "cell_type": "code",
   "execution_count": null,
   "metadata": {},
   "outputs": [],
   "source": [
    "import glob\n",
    "import os\n",
    "import re\n",
    "\n",
    "import numpy as np\n",
    "import pandas"
   ]
  },
  {
   "cell_type": "code",
   "execution_count": null,
   "metadata": {},
   "outputs": [],
   "source": [
    "outputs = glob.glob(\"../results/energy_demand_constrained/energy_demand_constrained/decision_0/*.csv\")\n",
    "len(outputs), outputs[0]"
   ]
  },
  {
   "cell_type": "code",
   "execution_count": null,
   "metadata": {},
   "outputs": [],
   "source": [
    "dfs = []\n",
    "for fname in outputs:\n",
    "    slug, _ = os.path.splitext(os.path.basename(fname))\n",
    "    timestep = slug[-4:]\n",
    "#     sector = re.search('industry|service|residential', slug)[0]\n",
    "    enduse = slug[:-4].replace(f\"output_\",\"\").replace(\"_timestep_\", \"\")\n",
    "    df = pandas.read_csv(fname) \\\n",
    "        .drop(columns='hourly') \\\n",
    "        .groupby('lad_uk_2016') \\\n",
    "        .sum() \\\n",
    "        .rename(columns={enduse: 'value'})\n",
    "#     df['timestep'] = int(timestep)\n",
    "#     df['sector'] = sector\n",
    "    df['enduse'] = enduse\n",
    "    print(enduse)\n",
    "    dfs.append(df)\n",
    "    \n",
    "df = pandas.concat(dfs)"
   ]
  },
  {
   "cell_type": "code",
   "execution_count": null,
   "metadata": {},
   "outputs": [],
   "source": [
    "dfa = df.reset_index() \\\n",
    "    .drop(columns='lad_uk_2016') \\\n",
    "    .groupby('enduse') \\\n",
    "    .sum() \\\n",
    "    .reset_index()\n",
    "dfa"
   ]
  },
  {
   "cell_type": "code",
   "execution_count": null,
   "metadata": {},
   "outputs": [],
   "source": [
    "dfa['sector'] = dfa.enduse.apply(lambda e: re.search('industry|service|residential', e)[0])\n",
    "dfa['fuel'] = dfa.enduse.apply(lambda e: re.search(\n",
    "    '_oil_|_biomass_|_electricity_|_gas_|_hydrogen_|_solid_fuel_', e)[0].replace(\"_\",\"\")).replace(\"solidfuel\", \"solid_fuel\")\n",
    "dfa"
   ]
  },
  {
   "cell_type": "code",
   "execution_count": null,
   "metadata": {},
   "outputs": [],
   "source": [
    "dfb = dfa.drop(columns='enduse') \\\n",
    "    .groupby('fuel') \\\n",
    "    .sum()\n",
    "dfb"
   ]
  },
  {
   "cell_type": "code",
   "execution_count": null,
   "metadata": {},
   "outputs": [],
   "source": [
    "dfb.sum()"
   ]
  },
  {
   "cell_type": "code",
   "execution_count": null,
   "metadata": {},
   "outputs": [],
   "source": [
    "29254 - 26515"
   ]
  },
  {
   "cell_type": "code",
   "execution_count": null,
   "metadata": {},
   "outputs": [],
   "source": [
    "res = dfa.sort_values(by=['fuel','sector','enduse'])[['fuel','sector','enduse','value']]\n",
    "res = res[res.sector=='residential']\n",
    "res"
   ]
  },
  {
   "cell_type": "code",
   "execution_count": null,
   "metadata": {},
   "outputs": [],
   "source": [
    "24+4974+32+5324"
   ]
  },
  {
   "cell_type": "code",
   "execution_count": null,
   "metadata": {},
   "outputs": [],
   "source": [
    "9902+2302"
   ]
  },
  {
   "cell_type": "code",
   "execution_count": null,
   "metadata": {},
   "outputs": [],
   "source": [
    "dfb = dfa.drop(columns='enduse') \\\n",
    "    .groupby('fuel') \\\n",
    "    .sum()\n",
    "dfb"
   ]
  },
  {
   "cell_type": "markdown",
   "metadata": {},
   "source": [
    "## Demand npy results\n",
    "\n",
    "These are written out directly by the demand model, not via smif"
   ]
  },
  {
   "cell_type": "code",
   "execution_count": null,
   "metadata": {},
   "outputs": [],
   "source": [
    "demand_outputs = glob.glob('../data/energy_demand/results/model_run_results_txt/enduse_specific_results/*.npy')\n",
    "len(demand_outputs), demand_outputs[0]"
   ]
  },
  {
   "cell_type": "code",
   "execution_count": null,
   "metadata": {},
   "outputs": [],
   "source": [
    "fuels = ['solid_fuel', 'gas', 'electricity', 'oil', 'biomass', 'hydrogen', 'heat']\n",
    "data = []\n",
    "\n",
    "for fname in demand_outputs:\n",
    "    s = fname.split(\"__\")\n",
    "    enduse, timestep = s[1], s[2]\n",
    "\n",
    "    m = np.load(fname)\n",
    "    by_fuel = m.sum(axis=1)\n",
    "    for fuel, value in zip(fuels, by_fuel):\n",
    "        d = {\n",
    "            'enduse': enduse,\n",
    "            'timestep': timestep,\n",
    "            'fuel': fuel,\n",
    "            'value': value\n",
    "        }\n",
    "        data.append(d)\n",
    "    \n",
    "demand_df = pandas.DataFrame(data)\n",
    "demand_df"
   ]
  },
  {
   "cell_type": "code",
   "execution_count": null,
   "metadata": {},
   "outputs": [],
   "source": [
    "demand_df.groupby(['enduse']).sum()"
   ]
  },
  {
   "cell_type": "code",
   "execution_count": null,
   "metadata": {},
   "outputs": [],
   "source": [
    "1168+3904+1360+731+708+2614+1717"
   ]
  }
 ],
 "metadata": {
  "kernelspec": {
   "display_name": "Python 3",
   "language": "python",
   "name": "python3"
  },
  "language_info": {
   "codemirror_mode": {
    "name": "ipython",
    "version": 3
   },
   "file_extension": ".py",
   "mimetype": "text/x-python",
   "name": "python",
   "nbconvert_exporter": "python",
   "pygments_lexer": "ipython3",
   "version": "3.7.6"
  }
 },
 "nbformat": 4,
 "nbformat_minor": 4
}
