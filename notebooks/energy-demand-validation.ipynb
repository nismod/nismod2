{
 "cells": [
  {
   "cell_type": "markdown",
   "metadata": {},
   "source": [
    "# Check smif outputs correspond to energy demand model outputs\n",
    "\n",
    "Energy demand model reports high-level totals in logging. Check that these match the outputs\n",
    "as processed by smif and passed on to other models (energy supply) and for analysis.\n",
    "\n",
    "- read smif outputs from an energy demand model run\n",
    "- read text file outputs produced by energy demand directly from the same run\n",
    "- aggregate, compare/contrast, check totals, check any source of mismatch"
   ]
  },
  {
   "cell_type": "code",
   "execution_count": null,
   "metadata": {},
   "outputs": [],
   "source": [
    "import glob\n",
    "import os\n",
    "import re\n",
    "\n",
    "import numpy as np\n",
    "import pandas"
   ]
  },
  {
   "cell_type": "code",
   "execution_count": null,
   "metadata": {},
   "outputs": [],
   "source": [
    "outputs = glob.glob(\"../results/energy_demand_constrained/energy_demand_constrained/decision_0/*.csv\")\n",
    "len(outputs), outputs[0]"
   ]
  },
  {
   "cell_type": "code",
   "execution_count": null,
   "metadata": {},
   "outputs": [],
   "source": [
    "enduses = set()\n",
    "\n",
    "r = re.compile('_$')\n",
    "for fname in outputs:\n",
    "    slug, _ = os.path.splitext(os.path.basename(fname))\n",
    "    timestep = slug[-4:]\n",
    "    sector = re.search('industry|service|residential', slug)[0]\n",
    "    rest = slug[:-4].replace(f\"output_\",\"\") \\\n",
    "        .replace(\"_timestep_\", \"\") \\\n",
    "        .replace(f\"{sector}_\",\"\")\n",
    "    fuel = re.search('oil_|biomass_|electricity_|gas_|hydrogen_|solid_fuel_', rest)[0]\n",
    "    fuel = re.sub('_$', \"\", fuel)\n",
    "    enduse = rest.replace(f\"{fuel}_\", \"\")\n",
    "    enduses.add(enduse)\n",
    "    \n",
    "\n",
    "for e in sorted(enduses):\n",
    "    print(e)"
   ]
  },
  {
   "cell_type": "code",
   "execution_count": null,
   "metadata": {},
   "outputs": [],
   "source": [
    "pandas.read_csv(outputs[0]).head(2)"
   ]
  },
  {
   "cell_type": "code",
   "execution_count": null,
   "metadata": {},
   "outputs": [],
   "source": [
    "dfs = []\n",
    "for fname in outputs:\n",
    "    slug, _ = os.path.splitext(os.path.basename(fname))\n",
    "    timestep = slug[-4:]\n",
    "#     sector = re.search('industry|service|residential', slug)[0]\n",
    "    enduse = slug[:-4].replace(f\"output_\",\"\").replace(\"_timestep_\", \"\")\n",
    "    df = pandas.read_csv(fname) \\\n",
    "        .drop(columns='hourly') \\\n",
    "        .groupby('lad_uk_2016') \\\n",
    "        .sum() \\\n",
    "        .rename(columns={enduse: 'value'})\n",
    "#     df['timestep'] = int(timestep)\n",
    "#     df['sector'] = sector\n",
    "    df['enduse'] = enduse\n",
    "    print(enduse)\n",
    "    dfs.append(df)\n",
    "    \n",
    "smif_output = pandas.concat(dfs)"
   ]
  },
  {
   "cell_type": "code",
   "execution_count": null,
   "metadata": {},
   "outputs": [],
   "source": [
    "smif_output_annual_national = smif_output.reset_index() \\\n",
    "    .drop(columns='lad_uk_2016') \\\n",
    "    .groupby('enduse') \\\n",
    "    .sum() \\\n",
    "    .reset_index()\n",
    "\n",
    "def extract_sector(e):\n",
    "    return re.search('industry|service|residential', e)[0]\n",
    "\n",
    "smif_output_annual_national['sector'] = smif_output_annual_national.enduse \\\n",
    "    .apply(extract_sector)\n",
    "\n",
    "def extract_fuel(e):\n",
    "    match_fuel = '_oil_|_biomass_|_electricity_|_gas_|_hydrogen_|_solid_fuel_'\n",
    "    return re.search(match_fuel, e)[0] \\\n",
    "        .replace(\"_\",\"\") \\\n",
    "        .replace(\"solidfuel\", \"solid_fuel\")\n",
    "\n",
    "smif_output_annual_national['fuel'] = dfa.enduse \\\n",
    "    .apply(extract_fuel)\n",
    "\n",
    "smif_output_annual_national"
   ]
  },
  {
   "cell_type": "code",
   "execution_count": null,
   "metadata": {},
   "outputs": [],
   "source": [
    "smif_output_by_fuel = smif_output_annual_national.drop(columns='enduse') \\\n",
    "    .groupby('fuel') \\\n",
    "    .sum()\n",
    "smif_output_by_fuel"
   ]
  },
  {
   "cell_type": "code",
   "execution_count": null,
   "metadata": {},
   "outputs": [],
   "source": [
    "smif_output_by_fuel.sum()"
   ]
  },
  {
   "cell_type": "code",
   "execution_count": null,
   "metadata": {},
   "outputs": [],
   "source": [
    "res = smif_output_annual_national.sort_values(by=['fuel','sector','enduse'])[['fuel','sector','enduse','value']]\n",
    "res = res[res.sector=='residential']\n",
    "res"
   ]
  },
  {
   "cell_type": "markdown",
   "metadata": {},
   "source": [
    "## Demand npy results\n",
    "\n",
    "These are written out directly by the demand model, not via smif.\n",
    "\n",
    "- Regional/hourly output per fuel type\n",
    "- National/hourly output per enduse and fuel"
   ]
  },
  {
   "cell_type": "code",
   "execution_count": null,
   "metadata": {},
   "outputs": [],
   "source": [
    "regs_yh15 = np.load('../data/energy_demand/results/model_run_pop/ed_fueltype_regs_yh/result_tot_submodels_fueltypes__2015__.npy')\n",
    "regs_yh20 = np.load('../data/energy_demand/results/model_run_pop/ed_fueltype_regs_yh/result_tot_submodels_fueltypes__2020__.npy')\n",
    "regs_yh = regs_yh15 + regs_yh20"
   ]
  },
  {
   "cell_type": "code",
   "execution_count": null,
   "metadata": {},
   "outputs": [],
   "source": [
    "regs_yh.shape # 7 fuels, 391 regions, 8760 hours"
   ]
  },
  {
   "cell_type": "code",
   "execution_count": null,
   "metadata": {},
   "outputs": [],
   "source": [
    "regs_yh.sum()"
   ]
  },
  {
   "cell_type": "code",
   "execution_count": null,
   "metadata": {},
   "outputs": [],
   "source": [
    "fuels = ['solid_fuel', 'gas', 'electricity', 'oil', 'biomass', 'hydrogen', 'heat']"
   ]
  },
  {
   "cell_type": "code",
   "execution_count": null,
   "metadata": {},
   "outputs": [],
   "source": [
    "summed = regs_yh.sum(axis=1).sum(axis=1)\n",
    "data = []\n",
    "for fuel, value in zip(fuels, summed):\n",
    "    d = {\n",
    "        'fuel': fuel,\n",
    "        'value': value\n",
    "    }\n",
    "    data.append(d)\n",
    "    \n",
    "ed_output_by_fuel = pandas.DataFrame(data).sort_values(by='fuel').set_index('fuel')\n",
    "ed_output_by_fuel"
   ]
  },
  {
   "cell_type": "code",
   "execution_count": null,
   "metadata": {},
   "outputs": [],
   "source": [
    "demand_outputs = glob.glob('../data/energy_demand/results/model_run_results_txt/enduse_specific_results/*.npy')\n",
    "len(demand_outputs), demand_outputs[0]"
   ]
  },
  {
   "cell_type": "code",
   "execution_count": null,
   "metadata": {},
   "outputs": [],
   "source": [
    "m = np.load(demand_outputs[0])\n",
    "print(m.shape) # 7 fuels, 8760 hours"
   ]
  },
  {
   "cell_type": "code",
   "execution_count": null,
   "metadata": {},
   "outputs": [],
   "source": [
    "data = []\n",
    "\n",
    "for fname in demand_outputs:\n",
    "    s = fname.split(\"__\")\n",
    "    enduse, timestep = s[1], s[2]\n",
    "\n",
    "    m = np.load(fname)\n",
    "    by_fuel = m.sum(axis=1)\n",
    "    for fuel, value in zip(fuels, by_fuel):\n",
    "        d = {\n",
    "            'enduse': enduse,\n",
    "            'timestep': timestep,\n",
    "            'fuel': fuel,\n",
    "            'value': value\n",
    "        }\n",
    "        data.append(d)\n",
    "    \n",
    "ed_output_by_fuel_enduse = pandas.DataFrame(data)\n",
    "ed_output_by_fuel_enduse"
   ]
  },
  {
   "cell_type": "code",
   "execution_count": null,
   "metadata": {},
   "outputs": [],
   "source": [
    "ed_output_by_fuel = ed_output_by_fuel_enduse.groupby(['fuel']).sum()\n",
    "ed_output_by_fuel"
   ]
  },
  {
   "cell_type": "markdown",
   "metadata": {},
   "source": [
    "### Further into residential electricity use\n",
    "\n",
    "ed_output gives the breakdown by enduse (lighting, heating...) where smif_output gives further breakdown into technologies for heating (boiler, heat pump...) but lumps all other electricity use into \"non-heating\""
   ]
  },
  {
   "cell_type": "code",
   "execution_count": null,
   "metadata": {},
   "outputs": [],
   "source": [
    "ed_output_by_fuel_enduse[\n",
    "    (demand_df.fuel == 'electricity') & demand_df.enduse.str.startswith('rs') & demand_df.value > 0\n",
    "].groupby('enduse').sum()"
   ]
  },
  {
   "cell_type": "code",
   "execution_count": null,
   "metadata": {},
   "outputs": [],
   "source": [
    "smif_output_annual_national[\n",
    "    (smif_output_annual_national.fuel == 'electricity') \n",
    "    & smif_output_annual_national.enduse.str.startswith('res')\n",
    "]"
   ]
  },
  {
   "cell_type": "markdown",
   "metadata": {},
   "source": [
    "## Comparisons"
   ]
  },
  {
   "cell_type": "markdown",
   "metadata": {},
   "source": [
    "Compare total output"
   ]
  },
  {
   "cell_type": "code",
   "execution_count": null,
   "metadata": {},
   "outputs": [],
   "source": [
    "np.isclose(smif_output.value.sum(), regs_yh.sum())"
   ]
  },
  {
   "cell_type": "code",
   "execution_count": null,
   "metadata": {},
   "outputs": [],
   "source": [
    "regs_yh.sum()"
   ]
  },
  {
   "cell_type": "code",
   "execution_count": null,
   "metadata": {},
   "outputs": [],
   "source": [
    "smif_output.value.sum()"
   ]
  },
  {
   "cell_type": "markdown",
   "metadata": {},
   "source": [
    "Compare breakdown by fuel"
   ]
  },
  {
   "cell_type": "code",
   "execution_count": null,
   "metadata": {},
   "outputs": [],
   "source": [
    "a = ed_output_by_fuel.rename(columns={'value':'ed'})\n",
    "b = smif_output_by_fuel.rename(columns={'value':'smif'})\n",
    "df = a.join(b, on='fuel')\n",
    "df['gap'] = df.ed - df.smif\n",
    "df['gap_is_small'] = np.abs(df.gap) < 1e-9\n",
    "df"
   ]
  }
 ],
 "metadata": {
  "kernelspec": {
   "display_name": "Python 3",
   "language": "python",
   "name": "python3"
  },
  "language_info": {
   "codemirror_mode": {
    "name": "ipython",
    "version": 3
   },
   "file_extension": ".py",
   "mimetype": "text/x-python",
   "name": "python",
   "nbconvert_exporter": "python",
   "pygments_lexer": "ipython3",
   "version": "3.7.6"
  }
 },
 "nbformat": 4,
 "nbformat_minor": 4
}
