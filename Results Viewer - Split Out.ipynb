{
 "cells": [
  {
   "cell_type": "markdown",
   "metadata": {},
   "source": [
    "# NISMOD Results Viewer"
   ]
  },
  {
   "cell_type": "markdown",
   "metadata": {},
   "source": [
    "Run all the cells to start the results viewer.\n",
    "\n",
    "1. Choose a Model Run\n",
    "2. Choose the result set you wish to view\n",
    "3. Click the \"Load Results\" button\n",
    "\n",
    "Two viewers allows you to either explore the dependency graph, choosing a central model, and viewing the data through it (from a predecessor, to a successor model).  Or, just view the outputs of a selected model."
   ]
  },
  {
   "cell_type": "code",
   "execution_count": null,
   "metadata": {},
   "outputs": [],
   "source": [
    "%matplotlib inline\n",
    "%config InlineBackend.close_figures=False \n",
    "\n",
    "from smif.data_layer.datafile_interface import DatafileInterface\n",
    "from smif.cli import get_model_run_definition, build_model_run, load_resolution_sets\n",
    "handler = DatafileInterface('./')\n",
    "load_resolution_sets('./')"
   ]
  },
  {
   "cell_type": "code",
   "execution_count": null,
   "metadata": {},
   "outputs": [],
   "source": [
    "%run results.py"
   ]
  },
  {
   "cell_type": "code",
   "execution_count": null,
   "metadata": {
    "scrolled": false
   },
   "outputs": [],
   "source": [
    "widgets.VBox([choose_modelrun, view_results, view_outputs])"
   ]
  },
  {
   "cell_type": "code",
   "execution_count": null,
   "metadata": {},
   "outputs": [],
   "source": []
  }
 ],
 "metadata": {
  "kernelspec": {
   "display_name": "Python 3",
   "language": "python",
   "name": "python3"
  },
  "language_info": {
   "codemirror_mode": {
    "name": "ipython",
    "version": 3
   },
   "file_extension": ".py",
   "mimetype": "text/x-python",
   "name": "python",
   "nbconvert_exporter": "python",
   "pygments_lexer": "ipython3",
   "version": "3.5.2"
  }
 },
 "nbformat": 4,
 "nbformat_minor": 2
}
